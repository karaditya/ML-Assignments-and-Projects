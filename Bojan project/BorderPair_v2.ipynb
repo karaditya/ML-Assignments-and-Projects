{
  "nbformat": 4,
  "nbformat_minor": 0,
  "metadata": {
    "colab": {
      "name": "BorderPair_v2",
      "provenance": [],
      "collapsed_sections": [],
      "toc_visible": true
    },
    "kernelspec": {
      "name": "python3",
      "display_name": "Python 3"
    },
    "language_info": {
      "name": "python"
    }
  },
  "cells": [
    {
      "cell_type": "code",
      "metadata": {
        "id": "ZG5V0f8vqQJF"
      },
      "source": [
        "import numpy as np\n",
        "import pandas as pd\n",
        "from matplotlib import pyplot as plt\n",
        "from sympy import Point, Line, Segment"
      ],
      "execution_count": 1,
      "outputs": []
    },
    {
      "cell_type": "code",
      "metadata": {
        "id": "qKLehPFtqS4m",
        "colab": {
          "base_uri": "https://localhost:8080/"
        },
        "outputId": "c0d66458-80f1-4b68-9349-27610f2659f5"
      },
      "source": [
        "from google.colab import drive\n",
        "drive.mount('/content/drive')"
      ],
      "execution_count": 2,
      "outputs": [
        {
          "output_type": "stream",
          "text": [
            "Mounted at /content/drive\n"
          ],
          "name": "stdout"
        }
      ]
    },
    {
      "cell_type": "markdown",
      "metadata": {
        "id": "oewt_lSqzTbJ"
      },
      "source": [
        "## Data Loading"
      ]
    },
    {
      "cell_type": "code",
      "metadata": {
        "id": "9ES57st7dwZj"
      },
      "source": [
        "dat = pd.read_csv('/content/drive/MyDrive/testData.csv')\n",
        "X = pd.DataFrame(dat, columns=['A', 'B']).to_numpy()\n",
        "Y = pd.DataFrame(dat, columns=['Y']).to_numpy()\n",
        "A = pd.DataFrame(dat, columns=['A']).to_numpy()\n",
        "B = pd.DataFrame(dat, columns=['B']).to_numpy()"
      ],
      "execution_count": 3,
      "outputs": []
    },
    {
      "cell_type": "code",
      "metadata": {
        "colab": {
          "base_uri": "https://localhost:8080/",
          "height": 1000
        },
        "id": "5yKaUpwdeOEO",
        "outputId": "d68b9ad6-2e89-4fa3-ca58-380dfa546fa6"
      },
      "source": [
        "dat"
      ],
      "execution_count": 4,
      "outputs": [
        {
          "output_type": "execute_result",
          "data": {
            "text/html": [
              "<div>\n",
              "<style scoped>\n",
              "    .dataframe tbody tr th:only-of-type {\n",
              "        vertical-align: middle;\n",
              "    }\n",
              "\n",
              "    .dataframe tbody tr th {\n",
              "        vertical-align: top;\n",
              "    }\n",
              "\n",
              "    .dataframe thead th {\n",
              "        text-align: right;\n",
              "    }\n",
              "</style>\n",
              "<table border=\"1\" class=\"dataframe\">\n",
              "  <thead>\n",
              "    <tr style=\"text-align: right;\">\n",
              "      <th></th>\n",
              "      <th>A</th>\n",
              "      <th>B</th>\n",
              "      <th>Y</th>\n",
              "    </tr>\n",
              "  </thead>\n",
              "  <tbody>\n",
              "    <tr>\n",
              "      <th>0</th>\n",
              "      <td>1</td>\n",
              "      <td>-1</td>\n",
              "      <td>1</td>\n",
              "    </tr>\n",
              "    <tr>\n",
              "      <th>1</th>\n",
              "      <td>2</td>\n",
              "      <td>-1</td>\n",
              "      <td>1</td>\n",
              "    </tr>\n",
              "    <tr>\n",
              "      <th>2</th>\n",
              "      <td>3</td>\n",
              "      <td>-1</td>\n",
              "      <td>1</td>\n",
              "    </tr>\n",
              "    <tr>\n",
              "      <th>3</th>\n",
              "      <td>4</td>\n",
              "      <td>-1</td>\n",
              "      <td>1</td>\n",
              "    </tr>\n",
              "    <tr>\n",
              "      <th>4</th>\n",
              "      <td>1</td>\n",
              "      <td>0</td>\n",
              "      <td>1</td>\n",
              "    </tr>\n",
              "    <tr>\n",
              "      <th>5</th>\n",
              "      <td>2</td>\n",
              "      <td>0</td>\n",
              "      <td>1</td>\n",
              "    </tr>\n",
              "    <tr>\n",
              "      <th>6</th>\n",
              "      <td>3</td>\n",
              "      <td>0</td>\n",
              "      <td>1</td>\n",
              "    </tr>\n",
              "    <tr>\n",
              "      <th>7</th>\n",
              "      <td>4</td>\n",
              "      <td>0</td>\n",
              "      <td>1</td>\n",
              "    </tr>\n",
              "    <tr>\n",
              "      <th>8</th>\n",
              "      <td>-1</td>\n",
              "      <td>1</td>\n",
              "      <td>1</td>\n",
              "    </tr>\n",
              "    <tr>\n",
              "      <th>9</th>\n",
              "      <td>-2</td>\n",
              "      <td>1</td>\n",
              "      <td>1</td>\n",
              "    </tr>\n",
              "    <tr>\n",
              "      <th>10</th>\n",
              "      <td>1</td>\n",
              "      <td>1</td>\n",
              "      <td>0</td>\n",
              "    </tr>\n",
              "    <tr>\n",
              "      <th>11</th>\n",
              "      <td>2</td>\n",
              "      <td>1</td>\n",
              "      <td>0</td>\n",
              "    </tr>\n",
              "    <tr>\n",
              "      <th>12</th>\n",
              "      <td>3</td>\n",
              "      <td>1</td>\n",
              "      <td>0</td>\n",
              "    </tr>\n",
              "    <tr>\n",
              "      <th>13</th>\n",
              "      <td>4</td>\n",
              "      <td>1</td>\n",
              "      <td>0</td>\n",
              "    </tr>\n",
              "    <tr>\n",
              "      <th>14</th>\n",
              "      <td>-1</td>\n",
              "      <td>2</td>\n",
              "      <td>1</td>\n",
              "    </tr>\n",
              "    <tr>\n",
              "      <th>15</th>\n",
              "      <td>-2</td>\n",
              "      <td>2</td>\n",
              "      <td>1</td>\n",
              "    </tr>\n",
              "    <tr>\n",
              "      <th>16</th>\n",
              "      <td>1</td>\n",
              "      <td>2</td>\n",
              "      <td>0</td>\n",
              "    </tr>\n",
              "    <tr>\n",
              "      <th>17</th>\n",
              "      <td>2</td>\n",
              "      <td>2</td>\n",
              "      <td>0</td>\n",
              "    </tr>\n",
              "    <tr>\n",
              "      <th>18</th>\n",
              "      <td>3</td>\n",
              "      <td>2</td>\n",
              "      <td>0</td>\n",
              "    </tr>\n",
              "    <tr>\n",
              "      <th>19</th>\n",
              "      <td>4</td>\n",
              "      <td>2</td>\n",
              "      <td>0</td>\n",
              "    </tr>\n",
              "    <tr>\n",
              "      <th>20</th>\n",
              "      <td>1</td>\n",
              "      <td>3</td>\n",
              "      <td>1</td>\n",
              "    </tr>\n",
              "    <tr>\n",
              "      <th>21</th>\n",
              "      <td>2</td>\n",
              "      <td>3</td>\n",
              "      <td>1</td>\n",
              "    </tr>\n",
              "    <tr>\n",
              "      <th>22</th>\n",
              "      <td>3</td>\n",
              "      <td>3</td>\n",
              "      <td>1</td>\n",
              "    </tr>\n",
              "    <tr>\n",
              "      <th>23</th>\n",
              "      <td>4</td>\n",
              "      <td>3</td>\n",
              "      <td>1</td>\n",
              "    </tr>\n",
              "    <tr>\n",
              "      <th>24</th>\n",
              "      <td>1</td>\n",
              "      <td>4</td>\n",
              "      <td>1</td>\n",
              "    </tr>\n",
              "    <tr>\n",
              "      <th>25</th>\n",
              "      <td>2</td>\n",
              "      <td>4</td>\n",
              "      <td>1</td>\n",
              "    </tr>\n",
              "    <tr>\n",
              "      <th>26</th>\n",
              "      <td>3</td>\n",
              "      <td>4</td>\n",
              "      <td>1</td>\n",
              "    </tr>\n",
              "    <tr>\n",
              "      <th>27</th>\n",
              "      <td>4</td>\n",
              "      <td>4</td>\n",
              "      <td>1</td>\n",
              "    </tr>\n",
              "    <tr>\n",
              "      <th>28</th>\n",
              "      <td>1</td>\n",
              "      <td>5</td>\n",
              "      <td>1</td>\n",
              "    </tr>\n",
              "    <tr>\n",
              "      <th>29</th>\n",
              "      <td>2</td>\n",
              "      <td>5</td>\n",
              "      <td>1</td>\n",
              "    </tr>\n",
              "    <tr>\n",
              "      <th>30</th>\n",
              "      <td>3</td>\n",
              "      <td>5</td>\n",
              "      <td>1</td>\n",
              "    </tr>\n",
              "    <tr>\n",
              "      <th>31</th>\n",
              "      <td>4</td>\n",
              "      <td>5</td>\n",
              "      <td>1</td>\n",
              "    </tr>\n",
              "  </tbody>\n",
              "</table>\n",
              "</div>"
            ],
            "text/plain": [
              "    A  B  Y\n",
              "0   1 -1  1\n",
              "1   2 -1  1\n",
              "2   3 -1  1\n",
              "3   4 -1  1\n",
              "4   1  0  1\n",
              "5   2  0  1\n",
              "6   3  0  1\n",
              "7   4  0  1\n",
              "8  -1  1  1\n",
              "9  -2  1  1\n",
              "10  1  1  0\n",
              "11  2  1  0\n",
              "12  3  1  0\n",
              "13  4  1  0\n",
              "14 -1  2  1\n",
              "15 -2  2  1\n",
              "16  1  2  0\n",
              "17  2  2  0\n",
              "18  3  2  0\n",
              "19  4  2  0\n",
              "20  1  3  1\n",
              "21  2  3  1\n",
              "22  3  3  1\n",
              "23  4  3  1\n",
              "24  1  4  1\n",
              "25  2  4  1\n",
              "26  3  4  1\n",
              "27  4  4  1\n",
              "28  1  5  1\n",
              "29  2  5  1\n",
              "30  3  5  1\n",
              "31  4  5  1"
            ]
          },
          "metadata": {
            "tags": []
          },
          "execution_count": 4
        }
      ]
    },
    {
      "cell_type": "markdown",
      "metadata": {
        "id": "mlVPyCwCzYxW"
      },
      "source": [
        "## Data Visualisation"
      ]
    },
    {
      "cell_type": "code",
      "metadata": {
        "colab": {
          "base_uri": "https://localhost:8080/"
        },
        "id": "-8YOI5ZxeRjN",
        "outputId": "cf6f0db5-3337-42f7-a6e0-b745798a9fae"
      },
      "source": [
        "n = Y.shape[0]\n",
        "cat = Y.reshape((n,))\n",
        "cat.shape "
      ],
      "execution_count": null,
      "outputs": [
        {
          "output_type": "execute_result",
          "data": {
            "text/plain": [
              "(32,)"
            ]
          },
          "metadata": {
            "tags": []
          },
          "execution_count": 5
        }
      ]
    },
    {
      "cell_type": "code",
      "metadata": {
        "colab": {
          "base_uri": "https://localhost:8080/",
          "height": 265
        },
        "id": "TC2kaYe1eW8W",
        "outputId": "d22972cc-6aab-4c88-8bd2-19a254c05a34"
      },
      "source": [
        "colors = np.array([ 'r' , 'b' ])\n",
        "plt.scatter(A, B, s=80 ,c=colors[cat])\n",
        "plt.savefig('DataPlot.png')\n",
        "plt.show()"
      ],
      "execution_count": null,
      "outputs": [
        {
          "output_type": "display_data",
          "data": {
            "image/png": "[encoded data removed]",
            "text/plain": [
              "<Figure size 432x288 with 1 Axes>"
            ]
          },
          "metadata": {
            "tags": [],
            "needs_background": "light"
          }
        }
      ]
    },
    {
      "cell_type": "markdown",
      "metadata": {
        "id": "FXDRZwzEzcoE"
      },
      "source": [
        "## Border Pair Algorithm"
      ]
    },
    {
      "cell_type": "markdown",
      "metadata": {
        "id": "3nDQS6ANeyQ5"
      },
      "source": [
        "# Nov razdelek"
      ]
    },
    {
      "cell_type": "markdown",
      "metadata": {
        "id": "75ZpoLaQzgzg"
      },
      "source": [
        "### Choosing a random pattern"
      ]
    },
    {
      "cell_type": "code",
      "metadata": {
        "colab": {
          "base_uri": "https://localhost:8080/"
        },
        "id": "KyUWgHa2eZFT",
        "outputId": "ab58a3ce-3e99-4bed-f053-598f08016842"
      },
      "source": [
        "### Choosing a random pattern\n",
        "n = X.shape[0]\n",
        "r = np.random.randint(0,n)\n",
        "r"
      ],
      "execution_count": null,
      "outputs": [
        {
          "output_type": "execute_result",
          "data": {
            "text/plain": [
              "26"
            ]
          },
          "metadata": {
            "tags": []
          },
          "execution_count": 7
        }
      ]
    },
    {
      "cell_type": "code",
      "metadata": {
        "colab": {
          "base_uri": "https://localhost:8080/"
        },
        "id": "UrlvgF6Hfnbj",
        "outputId": "f0546afe-dc19-41df-b628-0da29a94bd32"
      },
      "source": [
        "Y[r][0]"
      ],
      "execution_count": null,
      "outputs": [
        {
          "output_type": "execute_result",
          "data": {
            "text/plain": [
              "1"
            ]
          },
          "metadata": {
            "tags": []
          },
          "execution_count": 8
        }
      ]
    },
    {
      "cell_type": "code",
      "metadata": {
        "colab": {
          "base_uri": "https://localhost:8080/"
        },
        "id": "xwROGAn6gNod",
        "outputId": "07ac5265-9771-4d4d-c61f-028e05052362"
      },
      "source": [
        "### Creating mask\n",
        "mask = (Y != Y[r])\n",
        "mask"
      ],
      "execution_count": null,
      "outputs": [
        {
          "output_type": "execute_result",
          "data": {
            "text/plain": [
              "array([[False],\n",
              "       [False],\n",
              "       [False],\n",
              "       [False],\n",
              "       [False],\n",
              "       [False],\n",
              "       [False],\n",
              "       [False],\n",
              "       [False],\n",
              "       [False],\n",
              "       [ True],\n",
              "       [ True],\n",
              "       [ True],\n",
              "       [ True],\n",
              "       [False],\n",
              "       [False],\n",
              "       [ True],\n",
              "       [ True],\n",
              "       [ True],\n",
              "       [ True],\n",
              "       [False],\n",
              "       [False],\n",
              "       [False],\n",
              "       [False],\n",
              "       [False],\n",
              "       [False],\n",
              "       [False],\n",
              "       [False],\n",
              "       [False],\n",
              "       [False],\n",
              "       [False],\n",
              "       [False]])"
            ]
          },
          "metadata": {
            "tags": []
          },
          "execution_count": 9
        }
      ]
    },
    {
      "cell_type": "markdown",
      "metadata": {
        "id": "XBD9CkjW1TOx"
      },
      "source": [
        "### Finding nearest Border Pattern"
      ]
    },
    {
      "cell_type": "code",
      "metadata": {
        "colab": {
          "base_uri": "https://localhost:8080/"
        },
        "id": "mFstEy2rjqwL",
        "outputId": "8e40f46e-7fbd-420e-eab1-3cc41d704896"
      },
      "source": [
        "### Distance matrix\n",
        "dist = np.zeros((n,n))\n",
        "for i in range(n):\n",
        "    temp = np.sum(np.square(X - X[i,:]), axis=1)\n",
        "    dist[i,:] = np.transpose(temp)\n",
        "\n",
        "dist"
      ],
      "execution_count": null,
      "outputs": [
        {
          "output_type": "execute_result",
          "data": {
            "text/plain": [
              "array([[ 0.,  1.,  4., ..., 37., 40., 45.],\n",
              "       [ 1.,  0.,  1., ..., 36., 37., 40.],\n",
              "       [ 4.,  1.,  0., ..., 37., 36., 37.],\n",
              "       ...,\n",
              "       [37., 36., 37., ...,  0.,  1.,  4.],\n",
              "       [40., 37., 36., ...,  1.,  0.,  1.],\n",
              "       [45., 40., 37., ...,  4.,  1.,  0.]])"
            ]
          },
          "metadata": {
            "tags": []
          },
          "execution_count": 10
        }
      ]
    },
    {
      "cell_type": "code",
      "metadata": {
        "colab": {
          "base_uri": "https://localhost:8080/"
        },
        "id": "6qqukYWwj1Jw",
        "outputId": "543d6931-7fcd-463a-dc1c-b614ad685562"
      },
      "source": [
        "### Finding different class patterns closest to chosen pattern\n",
        "row = dist[r,:]*np.transpose(mask) [0]\n",
        "d = np.min(row[np.nonzero(row)])\n",
        "d"
      ],
      "execution_count": null,
      "outputs": [
        {
          "output_type": "execute_result",
          "data": {
            "text/plain": [
              "4.0"
            ]
          },
          "metadata": {
            "tags": []
          },
          "execution_count": 11
        }
      ]
    },
    {
      "cell_type": "code",
      "metadata": {
        "colab": {
          "base_uri": "https://localhost:8080/"
        },
        "id": "V31DSuc8kX_A",
        "outputId": "86b0bec3-7b0e-48fc-d407-d9d4771638d9"
      },
      "source": [
        "### Nearest border pattern\n",
        "s = np.where( row == d)\n",
        "p = s[0][0]\n",
        "p"
      ],
      "execution_count": null,
      "outputs": [
        {
          "output_type": "execute_result",
          "data": {
            "text/plain": [
              "18"
            ]
          },
          "metadata": {
            "tags": []
          },
          "execution_count": 12
        }
      ]
    },
    {
      "cell_type": "code",
      "metadata": {
        "colab": {
          "base_uri": "https://localhost:8080/"
        },
        "id": "rtPNxQEOkZWD",
        "outputId": "67629d9b-25e0-421d-8afd-eb1b5edcceb8"
      },
      "source": [
        "Y[p][0]"
      ],
      "execution_count": null,
      "outputs": [
        {
          "output_type": "execute_result",
          "data": {
            "text/plain": [
              "0"
            ]
          },
          "metadata": {
            "tags": []
          },
          "execution_count": 13
        }
      ]
    },
    {
      "cell_type": "code",
      "metadata": {
        "colab": {
          "base_uri": "https://localhost:8080/"
        },
        "id": "39r8mMU3kcBF",
        "outputId": "d4dcdff2-ff66-4b4c-d7b6-dad34a536df1"
      },
      "source": [
        "X[p]"
      ],
      "execution_count": null,
      "outputs": [
        {
          "output_type": "execute_result",
          "data": {
            "text/plain": [
              "array([3, 2])"
            ]
          },
          "metadata": {
            "tags": []
          },
          "execution_count": 14
        }
      ]
    },
    {
      "cell_type": "code",
      "metadata": {
        "colab": {
          "base_uri": "https://localhost:8080/"
        },
        "id": "nd2SK8gkkwnL",
        "outputId": "64cf319f-63e2-4a5b-ae4c-2a95bf4c730f"
      },
      "source": [
        "X[r]"
      ],
      "execution_count": null,
      "outputs": [
        {
          "output_type": "execute_result",
          "data": {
            "text/plain": [
              "array([3, 4])"
            ]
          },
          "metadata": {
            "tags": []
          },
          "execution_count": 15
        }
      ]
    },
    {
      "cell_type": "markdown",
      "metadata": {
        "id": "VsSH_ch91Y86"
      },
      "source": [
        "### Draw the circle"
      ]
    },
    {
      "cell_type": "code",
      "metadata": {
        "colab": {
          "base_uri": "https://localhost:8080/"
        },
        "id": "kT6VVjhRkx9z",
        "outputId": "3d3372dd-a113-407b-eead-3aff94e523a0"
      },
      "source": [
        "### Extract indices of points lying in the circle\n",
        "def draw_circle(r,p,dist):\n",
        "  row = dist[r,:]\n",
        "  arr = np.where(row <= dist[r,p])\n",
        "  return arr[0]\n",
        "\n",
        "pts_arr = draw_circle(r,p,dist)\n",
        "pts_arr"
      ],
      "execution_count": null,
      "outputs": [
        {
          "output_type": "execute_result",
          "data": {
            "text/plain": [
              "array([18, 21, 22, 23, 24, 25, 26, 27, 29, 30, 31])"
            ]
          },
          "metadata": {
            "tags": []
          },
          "execution_count": 26
        }
      ]
    },
    {
      "cell_type": "code",
      "metadata": {
        "colab": {
          "base_uri": "https://localhost:8080/"
        },
        "id": "ZPkV4PlOqUeL",
        "outputId": "76456471-cf10-460c-e230-12343c106122"
      },
      "source": [
        "### Reduced distance matrix\n",
        "temp = dist[pts_arr,:]\n",
        "dist_circle = temp[:,pts_arr]\n",
        "dist_circle"
      ],
      "execution_count": null,
      "outputs": [
        {
          "output_type": "execute_result",
          "data": {
            "text/plain": [
              "array([[ 0.,  2.,  1.,  2.,  8.,  5.,  4.,  5., 10.,  9., 10.],\n",
              "       [ 2.,  0.,  1.,  4.,  2.,  1.,  2.,  5.,  4.,  5.,  8.],\n",
              "       [ 1.,  1.,  0.,  1.,  5.,  2.,  1.,  2.,  5.,  4.,  5.],\n",
              "       [ 2.,  4.,  1.,  0., 10.,  5.,  2.,  1.,  8.,  5.,  4.],\n",
              "       [ 8.,  2.,  5., 10.,  0.,  1.,  4.,  9.,  2.,  5., 10.],\n",
              "       [ 5.,  1.,  2.,  5.,  1.,  0.,  1.,  4.,  1.,  2.,  5.],\n",
              "       [ 4.,  2.,  1.,  2.,  4.,  1.,  0.,  1.,  2.,  1.,  2.],\n",
              "       [ 5.,  5.,  2.,  1.,  9.,  4.,  1.,  0.,  5.,  2.,  1.],\n",
              "       [10.,  4.,  5.,  8.,  2.,  1.,  2.,  5.,  0.,  1.,  4.],\n",
              "       [ 9.,  5.,  4.,  5.,  5.,  2.,  1.,  2.,  1.,  0.,  1.],\n",
              "       [10.,  8.,  5.,  4., 10.,  5.,  2.,  1.,  4.,  1.,  0.]])"
            ]
          },
          "metadata": {
            "tags": []
          },
          "execution_count": 65
        }
      ]
    },
    {
      "cell_type": "code",
      "metadata": {
        "colab": {
          "base_uri": "https://localhost:8080/"
        },
        "id": "yoPNyB7mtCI2",
        "outputId": "c96328f1-d4fe-4f57-b26a-a67c8a64068e"
      },
      "source": [
        "### Reduced Y_matrix\n",
        "Y_circle = Y[arr]\n",
        "Y_circle"
      ],
      "execution_count": null,
      "outputs": [
        {
          "output_type": "execute_result",
          "data": {
            "text/plain": [
              "array([[0],\n",
              "       [1],\n",
              "       [1],\n",
              "       [1],\n",
              "       [1],\n",
              "       [1],\n",
              "       [1],\n",
              "       [1],\n",
              "       [1],\n",
              "       [1],\n",
              "       [1]])"
            ]
          },
          "metadata": {
            "tags": []
          },
          "execution_count": 66
        }
      ]
    },
    {
      "cell_type": "code",
      "metadata": {
        "colab": {
          "base_uri": "https://localhost:8080/"
        },
        "id": "Ii3CfnZOvakr",
        "outputId": "d1b2a336-4f2b-4fcf-d768-398fa516b766"
      },
      "source": [
        "### Reduced X_matrix\n",
        "X_circle = X[arr]\n",
        "X_circle"
      ],
      "execution_count": null,
      "outputs": [
        {
          "output_type": "execute_result",
          "data": {
            "text/plain": [
              "array([[3, 2],\n",
              "       [2, 3],\n",
              "       [3, 3],\n",
              "       [4, 3],\n",
              "       [1, 4],\n",
              "       [2, 4],\n",
              "       [3, 4],\n",
              "       [4, 4],\n",
              "       [2, 5],\n",
              "       [3, 5],\n",
              "       [4, 5]])"
            ]
          },
          "metadata": {
            "tags": []
          },
          "execution_count": 67
        }
      ]
    },
    {
      "cell_type": "markdown",
      "metadata": {
        "id": "1fpDhcH_ztcd"
      },
      "source": [
        "### Find Border Pairs inside the circle"
      ]
    },
    {
      "cell_type": "code",
      "metadata": {
        "id": "iG13-JYhz4WI"
      },
      "source": [
        "### Find out all border pair points\n",
        "def border_pair(dist, X, Y):\n",
        "  bord_indx = []\n",
        "  midpts = []\n",
        "  it = np.nditer(dist, flags=['multi_index'])\n",
        "  for d in it:\n",
        "    i,j = it.multi_index\n",
        "    if i != j and i < j and Y[i] != Y[j]:\n",
        "        row = dist[i,:]\n",
        "        column = dist[:,j]\n",
        "        if d == np.min(row[np.nonzero(row)]) and dist[i,j] == np.min(column[np.nonzero(column)]):\n",
        "          print(\" {} and {} are border pairs\".format(i,j) )\n",
        "          temp = [i,j]\n",
        "          temp_mid = (X[i,:] + X[j,:])/2        \n",
        "          bord_indx.append(temp)\n",
        "          midpts.append(temp_mid)\n",
        "  return bord_indx, midpts"
      ],
      "execution_count": null,
      "outputs": []
    },
    {
      "cell_type": "code",
      "metadata": {
        "colab": {
          "base_uri": "https://localhost:8080/"
        },
        "id": "HyZkXF7fx-R3",
        "outputId": "b72ccd44-8045-4525-a9e9-7a50b5fc232f"
      },
      "source": [
        "### Searching Border Pairs inside the circle \n",
        "bord_indx, midpts = border_pair(dist_circle, X_circle, Y_circle)"
      ],
      "execution_count": null,
      "outputs": [
        {
          "output_type": "stream",
          "text": [
            " 0 and 2 are border pairs\n"
          ],
          "name": "stdout"
        }
      ]
    },
    {
      "cell_type": "code",
      "metadata": {
        "colab": {
          "base_uri": "https://localhost:8080/"
        },
        "id": "XgGBalQq6kWG",
        "outputId": "8539e43b-9b9b-4898-967d-2b3b24672aea"
      },
      "source": [
        "a,b = bord_indx[0]\n",
        "a"
      ],
      "execution_count": null,
      "outputs": [
        {
          "output_type": "execute_result",
          "data": {
            "text/plain": [
              "0"
            ]
          },
          "metadata": {
            "tags": []
          },
          "execution_count": 77
        }
      ]
    },
    {
      "cell_type": "code",
      "metadata": {
        "colab": {
          "base_uri": "https://localhost:8080/"
        },
        "id": "HtVzQHKq7awW",
        "outputId": "57b8457c-1f36-401d-cc0a-115ec5473ec3"
      },
      "source": [
        "X_circle[a][0]"
      ],
      "execution_count": null,
      "outputs": [
        {
          "output_type": "execute_result",
          "data": {
            "text/plain": [
              "3"
            ]
          },
          "metadata": {
            "tags": []
          },
          "execution_count": 78
        }
      ]
    },
    {
      "cell_type": "markdown",
      "metadata": {
        "id": "_I1Aza_R06bV"
      },
      "source": [
        "### Draw Border Lines in the circle"
      ]
    },
    {
      "cell_type": "code",
      "metadata": {
        "colab": {
          "base_uri": "https://localhost:8080/"
        },
        "id": "8mQpPHXcwXdM",
        "outputId": "f67026b7-c574-4b0d-9cd0-68d715b7e9da"
      },
      "source": [
        "m = len(midpts)\n",
        "m"
      ],
      "execution_count": null,
      "outputs": [
        {
          "output_type": "execute_result",
          "data": {
            "text/plain": [
              "1"
            ]
          },
          "metadata": {
            "tags": []
          },
          "execution_count": 73
        }
      ]
    },
    {
      "cell_type": "code",
      "metadata": {
        "colab": {
          "base_uri": "https://localhost:8080/"
        },
        "id": "0ybuVG6l-TVC",
        "outputId": "e222ae55-be20-4b89-aa56-02601d0bc0fe"
      },
      "source": [
        ""
      ],
      "execution_count": null,
      "outputs": [
        {
          "output_type": "execute_result",
          "data": {
            "text/plain": [
              "array([3. , 2.5])"
            ]
          },
          "metadata": {
            "tags": []
          },
          "execution_count": 97
        }
      ]
    },
    {
      "cell_type": "code",
      "metadata": {
        "id": "dRErESdD2E0K"
      },
      "source": [
        "if m == 1:\n",
        "  a,b = bord_indx[0]\n",
        "  x1,y1 = X_circle[a][0], X_circle[a][1]\n",
        "  x2,y2 = X_circle[b][0], X_circle[b][1]\n",
        "  P1,P2 = Point(x1,y1), Point(x2,y2)\n",
        "  L = Segment(P1,P2)\n",
        "  P = L.perpendicular_bisector()\n",
        "  \n",
        "\n",
        "else :\n",
        "  a = np.arange(m)\n",
        "  b = np.random.choice(a,2)\n",
        "  p1,p2 = midpts[b[0]], midpts[b[1]]\n",
        "  P1,P2 = Point(p1[0],p1[1]), Point(p2[0],p2[1])\n",
        "  P = Line(P1,P2) \n",
        "\n",
        "\n"
      ],
      "execution_count": null,
      "outputs": []
    },
    {
      "cell_type": "markdown",
      "metadata": {
        "id": "fE93SS9OYP8w"
      },
      "source": [
        "### Visualise the straight line"
      ]
    },
    {
      "cell_type": "code",
      "metadata": {
        "colab": {
          "base_uri": "https://localhost:8080/",
          "height": 51
        },
        "id": "zkuH_1mCM-u3",
        "outputId": "708738b0-8428-4a69-9c61-67293bcfb363"
      },
      "source": [
        "a,b,c = P.coefficients\n",
        "c"
      ],
      "execution_count": null,
      "outputs": [
        {
          "output_type": "execute_result",
          "data": {
            "text/latex": "$\\displaystyle - \\frac{5}{2}$",
            "text/plain": [
              "-5/2"
            ]
          },
          "metadata": {
            "tags": []
          },
          "execution_count": 118
        }
      ]
    },
    {
      "cell_type": "code",
      "metadata": {
        "colab": {
          "base_uri": "https://localhost:8080/"
        },
        "id": "HrR7tiq_Ipw5",
        "outputId": "f4ff75da-176a-4199-c852-a538dc5bb24c"
      },
      "source": [
        "n = Y.shape[0]\n",
        "cat = Y.reshape((n,))\n",
        "cat.shape "
      ],
      "execution_count": null,
      "outputs": [
        {
          "output_type": "execute_result",
          "data": {
            "text/plain": [
              "(32,)"
            ]
          },
          "metadata": {
            "tags": []
          },
          "execution_count": 110
        }
      ]
    },
    {
      "cell_type": "code",
      "metadata": {
        "colab": {
          "base_uri": "https://localhost:8080/",
          "height": 265
        },
        "id": "RbQYbyvAIpw7",
        "outputId": "0d18cf71-ab9d-453d-d48b-833afbe159fc"
      },
      "source": [
        "colors = np.array([ 'r' , 'b' ])\n",
        "axes = plt.gca()\n",
        "plt.scatter(A, B, s=80 ,c=colors[cat])\n",
        "x_vals = np.array(axes.get_xlim())\n",
        "intercept = -c/b\n",
        "slope = a/b\n",
        "y_vals = intercept + slope * x_vals\n",
        "plt.plot(x_vals, y_vals, '--')\n",
        "plt.savefig('DataPlot.png')\n",
        "plt.show()"
      ],
      "execution_count": null,
      "outputs": [
        {
          "output_type": "display_data",
          "data": {
            "image/png": "[encoded data removed]",
            "text/plain": [
              "<Figure size 432x288 with 1 Axes>"
            ]
          },
          "metadata": {
            "tags": [],
            "needs_background": "light"
          }
        }
      ]
    },
    {
      "cell_type": "code",
      "metadata": {
        "id": "-mh73HbTIg4K"
      },
      "source": [
        ""
      ],
      "execution_count": null,
      "outputs": []
    }
  ]
}