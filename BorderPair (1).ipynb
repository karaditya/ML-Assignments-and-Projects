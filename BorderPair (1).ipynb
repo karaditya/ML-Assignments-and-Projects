{
  "nbformat": 4,
  "nbformat_minor": 0,
  "metadata": {
    "colab": {
      "name": "BorderPair.ipynb",
      "provenance": [],
      "collapsed_sections": [],
      "toc_visible": true
    },
    "kernelspec": {
      "name": "python3",
      "display_name": "Python 3"
    }
  },
  "cells": [
    {
      "cell_type": "markdown",
      "metadata": {
        "id": "JeX521FQ1uDW"
      },
      "source": [
        "# Border Pair Tracing Algorithm"
      ]
    },
    {
      "cell_type": "code",
      "metadata": {
        "id": "C0jwrB3_2TF1"
      },
      "source": [
        "import numpy as np\r\n",
        "import pandas as pd"
      ],
      "execution_count": null,
      "outputs": []
    },
    {
      "cell_type": "code",
      "metadata": {
        "id": "5-SpAiYZfHp1"
      },
      "source": [
        "from google.colab import drive\n",
        "drive.mount('/content/drive')"
      ],
      "execution_count": null,
      "outputs": []
    },
    {
      "cell_type": "markdown",
      "metadata": {
        "id": "k32OBoiu19Qv"
      },
      "source": [
        "### OR Gate"
      ]
    },
    {
      "cell_type": "code",
      "metadata": {
        "id": "I5usHZuQ1ou4"
      },
      "source": [
        "dat = pd.read_csv('or_data.csv')\r\n",
        "X = pd.DataFrame(dat, columns=['A', 'B']).to_numpy()\r\n",
        "Y = pd.DataFrame(dat, columns=['Y']).to_numpy()"
      ],
      "execution_count": null,
      "outputs": []
    },
    {
      "cell_type": "code",
      "metadata": {
        "colab": {
          "base_uri": "https://localhost:8080/"
        },
        "id": "54vUtUiVIr8I",
        "outputId": "2505b18c-1693-423c-e1a5-091120231188"
      },
      "source": [
        "Y"
      ],
      "execution_count": null,
      "outputs": [
        {
          "output_type": "execute_result",
          "data": {
            "text/plain": [
              "array([[0],\n",
              "       [1],\n",
              "       [1],\n",
              "       [1]])"
            ]
          },
          "metadata": {
            "tags": []
          },
          "execution_count": 5
        }
      ]
    },
    {
      "cell_type": "markdown",
      "metadata": {
        "id": "TY73MmeA3bpk"
      },
      "source": [
        "## Calculating the euclidean distance"
      ]
    },
    {
      "cell_type": "code",
      "metadata": {
        "colab": {
          "base_uri": "https://localhost:8080/"
        },
        "id": "yhQAILzb1tH0",
        "outputId": "d60f4e45-895b-4a65-fdba-b81df721ee98"
      },
      "source": [
        "m = X.shape[0]\r\n",
        "dist = np.zeros((m,m))\r\n",
        "dist[0]"
      ],
      "execution_count": null,
      "outputs": [
        {
          "output_type": "execute_result",
          "data": {
            "text/plain": [
              "array([0., 0., 0., 0.])"
            ]
          },
          "metadata": {
            "tags": []
          },
          "execution_count": 6
        }
      ]
    },
    {
      "cell_type": "code",
      "metadata": {
        "colab": {
          "base_uri": "https://localhost:8080/"
        },
        "id": "TrDTf5xV1tEi",
        "outputId": "33c3bd84-b7ea-4a0f-c115-374ec6c72ac0"
      },
      "source": [
        "for i in range(m):\r\n",
        "  for j in range(m):\r\n",
        "    dist[i,j] = np.linalg.norm(X[i]-X[j])\r\n",
        "\r\n",
        "\r\n",
        "dist"
      ],
      "execution_count": null,
      "outputs": [
        {
          "output_type": "execute_result",
          "data": {
            "text/plain": [
              "array([[0.        , 1.        , 1.        , 1.41421356],\n",
              "       [1.        , 0.        , 1.41421356, 1.        ],\n",
              "       [1.        , 1.41421356, 0.        , 1.        ],\n",
              "       [1.41421356, 1.        , 1.        , 0.        ]])"
            ]
          },
          "metadata": {
            "tags": []
          },
          "execution_count": 7
        }
      ]
    },
    {
      "cell_type": "code",
      "metadata": {
        "colab": {
          "base_uri": "https://localhost:8080/"
        },
        "id": "gW119hID6xiZ",
        "outputId": "4a7fa614-d86e-415e-9077-a7a5f2082731"
      },
      "source": [
        "dist[0,:]"
      ],
      "execution_count": null,
      "outputs": [
        {
          "output_type": "execute_result",
          "data": {
            "text/plain": [
              "array([0.        , 1.        , 1.        , 1.41421356])"
            ]
          },
          "metadata": {
            "tags": []
          },
          "execution_count": 8
        }
      ]
    },
    {
      "cell_type": "code",
      "metadata": {
        "colab": {
          "base_uri": "https://localhost:8080/"
        },
        "id": "1pB_WEcW629r",
        "outputId": "5503cccf-8f37-432d-b7b0-66bb95a4d001"
      },
      "source": [
        "dist[:,1]"
      ],
      "execution_count": null,
      "outputs": [
        {
          "output_type": "execute_result",
          "data": {
            "text/plain": [
              "array([1.        , 0.        , 1.41421356, 1.        ])"
            ]
          },
          "metadata": {
            "tags": []
          },
          "execution_count": 9
        }
      ]
    },
    {
      "cell_type": "code",
      "metadata": {
        "colab": {
          "base_uri": "https://localhost:8080/"
        },
        "id": "M9goT2g51tCG",
        "outputId": "76d968b1-71df-476d-8158-b9650b309461"
      },
      "source": [
        "for i in range(m):\r\n",
        "  for j in range(m):\r\n",
        "    if i != j and i < j and Y[i] != Y[j]:\r\n",
        "      row = dist[i,:]\r\n",
        "      column = dist[:,j]\r\n",
        "      if dist[i,j] == np.min(row[np.nonzero(row)]) and dist[i,j] == np.min(column[np.nonzero(column)]):\r\n",
        "        print(\" {} and {} are border pairs\".format(i,j) )"
      ],
      "execution_count": null,
      "outputs": [
        {
          "output_type": "stream",
          "text": [
            " 0 and 1 are border pairs\n",
            " 0 and 2 are border pairs\n"
          ],
          "name": "stdout"
        }
      ]
    },
    {
      "cell_type": "code",
      "metadata": {
        "id": "GW8dv8r51s_D"
      },
      "source": [
        ""
      ],
      "execution_count": null,
      "outputs": []
    },
    {
      "cell_type": "code",
      "metadata": {
        "id": "Z-TOuWZw1s8d"
      },
      "source": [
        ""
      ],
      "execution_count": null,
      "outputs": []
    }
  ]
}