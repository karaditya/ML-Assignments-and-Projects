{
  "nbformat": 4,
  "nbformat_minor": 0,
  "metadata": {
    "colab": {
      "name": "BorderPair_v2.2.ipynb",
      "provenance": [],
      "collapsed_sections": []
    },
    "kernelspec": {
      "name": "python3",
      "display_name": "Python 3"
    },
    "language_info": {
      "name": "python"
    }
  },
  "cells": [
    {
      "cell_type": "code",
      "metadata": {
        "id": "ZG5V0f8vqQJF"
      },
      "source": [
        "import numpy as np\n",
        "import pandas as pd\n",
        "from matplotlib import pyplot as plt"
      ],
      "execution_count": 1,
      "outputs": []
    },
    {
      "cell_type": "code",
      "metadata": {
        "id": "qKLehPFtqS4m",
        "colab": {
          "base_uri": "https://localhost:8080/"
        },
        "outputId": "6a8bd387-cdd3-4ddf-8ca7-a124b3ba44d3"
      },
      "source": [
        "from google.colab import drive\n",
        "drive.mount('/content/drive')"
      ],
      "execution_count": null,
      "outputs": [
        {
          "output_type": "stream",
          "name": "stdout",
          "text": [
            "Mounted at /content/drive\n"
          ]
        }
      ]
    },
    {
      "cell_type": "markdown",
      "metadata": {
        "id": "oewt_lSqzTbJ"
      },
      "source": [
        "## Data Loading"
      ]
    },
    {
      "cell_type": "code",
      "metadata": {
        "id": "9ES57st7dwZj"
      },
      "source": [
        "dat = pd.read_csv('/content/drive/MyDrive/testData1.csv')\n",
        "X = pd.DataFrame(dat, columns=['A', 'B']).to_numpy()\n",
        "Y = pd.DataFrame(dat, columns=['Y']).to_numpy()\n",
        "A = pd.DataFrame(dat, columns=['A']).to_numpy()\n",
        "B = pd.DataFrame(dat, columns=['B']).to_numpy()"
      ],
      "execution_count": null,
      "outputs": []
    },
    {
      "cell_type": "code",
      "metadata": {
        "colab": {
          "base_uri": "https://localhost:8080/",
          "height": 480
        },
        "id": "5yKaUpwdeOEO",
        "outputId": "49f7b9e9-aace-4053-df6d-cb4b42f44801"
      },
      "source": [
        "dat"
      ],
      "execution_count": null,
      "outputs": [
        {
          "output_type": "execute_result",
          "data": {
            "text/html": [
              "<div>\n",
              "<style scoped>\n",
              "    .dataframe tbody tr th:only-of-type {\n",
              "        vertical-align: middle;\n",
              "    }\n",
              "\n",
              "    .dataframe tbody tr th {\n",
              "        vertical-align: top;\n",
              "    }\n",
              "\n",
              "    .dataframe thead th {\n",
              "        text-align: right;\n",
              "    }\n",
              "</style>\n",
              "<table border=\"1\" class=\"dataframe\">\n",
              "  <thead>\n",
              "    <tr style=\"text-align: right;\">\n",
              "      <th></th>\n",
              "      <th>A</th>\n",
              "      <th>B</th>\n",
              "      <th>Y</th>\n",
              "    </tr>\n",
              "  </thead>\n",
              "  <tbody>\n",
              "    <tr>\n",
              "      <th>0</th>\n",
              "      <td>0.50</td>\n",
              "      <td>-1.25</td>\n",
              "      <td>0</td>\n",
              "    </tr>\n",
              "    <tr>\n",
              "      <th>1</th>\n",
              "      <td>-1.75</td>\n",
              "      <td>-1.00</td>\n",
              "      <td>1</td>\n",
              "    </tr>\n",
              "    <tr>\n",
              "      <th>2</th>\n",
              "      <td>-0.75</td>\n",
              "      <td>-1.00</td>\n",
              "      <td>1</td>\n",
              "    </tr>\n",
              "    <tr>\n",
              "      <th>3</th>\n",
              "      <td>3.00</td>\n",
              "      <td>-1.00</td>\n",
              "      <td>0</td>\n",
              "    </tr>\n",
              "    <tr>\n",
              "      <th>4</th>\n",
              "      <td>1.00</td>\n",
              "      <td>-0.50</td>\n",
              "      <td>0</td>\n",
              "    </tr>\n",
              "    <tr>\n",
              "      <th>5</th>\n",
              "      <td>0.00</td>\n",
              "      <td>0.00</td>\n",
              "      <td>0</td>\n",
              "    </tr>\n",
              "    <tr>\n",
              "      <th>6</th>\n",
              "      <td>3.00</td>\n",
              "      <td>0.00</td>\n",
              "      <td>0</td>\n",
              "    </tr>\n",
              "    <tr>\n",
              "      <th>7</th>\n",
              "      <td>-2.00</td>\n",
              "      <td>0.25</td>\n",
              "      <td>1</td>\n",
              "    </tr>\n",
              "    <tr>\n",
              "      <th>8</th>\n",
              "      <td>-1.00</td>\n",
              "      <td>1.00</td>\n",
              "      <td>1</td>\n",
              "    </tr>\n",
              "    <tr>\n",
              "      <th>9</th>\n",
              "      <td>1.00</td>\n",
              "      <td>1.00</td>\n",
              "      <td>1</td>\n",
              "    </tr>\n",
              "    <tr>\n",
              "      <th>10</th>\n",
              "      <td>3.00</td>\n",
              "      <td>1.00</td>\n",
              "      <td>1</td>\n",
              "    </tr>\n",
              "    <tr>\n",
              "      <th>11</th>\n",
              "      <td>2.00</td>\n",
              "      <td>2.00</td>\n",
              "      <td>1</td>\n",
              "    </tr>\n",
              "    <tr>\n",
              "      <th>12</th>\n",
              "      <td>0.50</td>\n",
              "      <td>3.00</td>\n",
              "      <td>1</td>\n",
              "    </tr>\n",
              "    <tr>\n",
              "      <th>13</th>\n",
              "      <td>3.00</td>\n",
              "      <td>3.00</td>\n",
              "      <td>1</td>\n",
              "    </tr>\n",
              "  </tbody>\n",
              "</table>\n",
              "</div>"
            ],
            "text/plain": [
              "       A     B  Y\n",
              "0   0.50 -1.25  0\n",
              "1  -1.75 -1.00  1\n",
              "2  -0.75 -1.00  1\n",
              "3   3.00 -1.00  0\n",
              "4   1.00 -0.50  0\n",
              "5   0.00  0.00  0\n",
              "6   3.00  0.00  0\n",
              "7  -2.00  0.25  1\n",
              "8  -1.00  1.00  1\n",
              "9   1.00  1.00  1\n",
              "10  3.00  1.00  1\n",
              "11  2.00  2.00  1\n",
              "12  0.50  3.00  1\n",
              "13  3.00  3.00  1"
            ]
          },
          "metadata": {},
          "execution_count": 4
        }
      ]
    },
    {
      "cell_type": "markdown",
      "metadata": {
        "id": "mlVPyCwCzYxW"
      },
      "source": [
        "## Data Visualisation"
      ]
    },
    {
      "cell_type": "code",
      "metadata": {
        "colab": {
          "base_uri": "https://localhost:8080/"
        },
        "id": "-8YOI5ZxeRjN",
        "outputId": "0e652b5e-73ab-41ea-e88f-ae96876d5587"
      },
      "source": [
        "n = Y.shape[0]\n",
        "cat = Y.reshape((n,))\n",
        "cat.shape "
      ],
      "execution_count": null,
      "outputs": [
        {
          "output_type": "execute_result",
          "data": {
            "text/plain": [
              "(14,)"
            ]
          },
          "metadata": {},
          "execution_count": 5
        }
      ]
    },
    {
      "cell_type": "code",
      "metadata": {
        "colab": {
          "base_uri": "https://localhost:8080/",
          "height": 265
        },
        "id": "TC2kaYe1eW8W",
        "outputId": "56510ce4-5b0f-4a46-cd8b-14a742172068"
      },
      "source": [
        "colors = np.array([ 'r' , 'b' ])\n",
        "plt.scatter(A, B, s=80 ,c=colors[cat])\n",
        "plt.savefig('DataPlot.png')\n",
        "plt.show()"
      ],
      "execution_count": null,
      "outputs": [
        {
          "output_type": "display_data",
          "data": {
            "image/png": "[encoded data removed]",
            "text/plain": [
              "<Figure size 432x288 with 1 Axes>"
            ]
          },
          "metadata": {
            "needs_background": "light"
          }
        }
      ]
    },
    {
      "cell_type": "markdown",
      "metadata": {
        "id": "FXDRZwzEzcoE"
      },
      "source": [
        "# **First Layer**"
      ]
    },
    {
      "cell_type": "markdown",
      "metadata": {
        "id": "KWvmM_Od3tH2"
      },
      "source": [
        "## *First Neuron*"
      ]
    },
    {
      "cell_type": "markdown",
      "metadata": {
        "id": "75ZpoLaQzgzg"
      },
      "source": [
        "### Choosing a random pattern"
      ]
    },
    {
      "cell_type": "code",
      "metadata": {
        "colab": {
          "base_uri": "https://localhost:8080/"
        },
        "id": "KyUWgHa2eZFT",
        "outputId": "c93cda90-6eb2-4a9a-8bd8-ae326d0874df"
      },
      "source": [
        "### Choosing a random pattern\n",
        "n = X.shape[0]\n",
        "r = np.random.randint(0,n)\n",
        "r = 7\n",
        "r"
      ],
      "execution_count": null,
      "outputs": [
        {
          "output_type": "execute_result",
          "data": {
            "text/plain": [
              "7"
            ]
          },
          "metadata": {},
          "execution_count": 7
        }
      ]
    },
    {
      "cell_type": "code",
      "metadata": {
        "colab": {
          "base_uri": "https://localhost:8080/"
        },
        "id": "xwROGAn6gNod",
        "outputId": "110f5146-eea9-45ba-bb32-7d0e8ae553d0"
      },
      "source": [
        "### Creating mask\n",
        "mask = (Y != Y[r])\n",
        "mask"
      ],
      "execution_count": null,
      "outputs": [
        {
          "output_type": "execute_result",
          "data": {
            "text/plain": [
              "array([[ True],\n",
              "       [False],\n",
              "       [False],\n",
              "       [ True],\n",
              "       [ True],\n",
              "       [ True],\n",
              "       [ True],\n",
              "       [False],\n",
              "       [False],\n",
              "       [False],\n",
              "       [False],\n",
              "       [False],\n",
              "       [False],\n",
              "       [False]])"
            ]
          },
          "metadata": {},
          "execution_count": 8
        }
      ]
    },
    {
      "cell_type": "markdown",
      "metadata": {
        "id": "XBD9CkjW1TOx"
      },
      "source": [
        "### Finding nearest Border Pattern"
      ]
    },
    {
      "cell_type": "code",
      "metadata": {
        "colab": {
          "base_uri": "https://localhost:8080/"
        },
        "id": "mFstEy2rjqwL",
        "outputId": "b3632dc1-511f-4b01-850b-680d16ddf744"
      },
      "source": [
        "### Distance matrix\n",
        "dist = np.zeros((n,n))\n",
        "for i in range(n):\n",
        "    temp = np.sum(np.square(X - X[i,:]), axis=1)\n",
        "    dist[i,:] = np.transpose(temp)\n",
        "\n",
        "dist"
      ],
      "execution_count": null,
      "outputs": [
        {
          "output_type": "execute_result",
          "data": {
            "text/plain": [
              "array([[ 0.    ,  5.125 ,  1.625 ,  6.3125,  0.8125,  1.8125,  7.8125,\n",
              "         8.5   ,  7.3125,  5.3125, 11.3125, 12.8125, 18.0625, 24.3125],\n",
              "       [ 5.125 ,  0.    ,  1.    , 22.5625,  7.8125,  4.0625, 23.5625,\n",
              "         1.625 ,  4.5625, 11.5625, 26.5625, 23.0625, 21.0625, 38.5625],\n",
              "       [ 1.625 ,  1.    ,  0.    , 14.0625,  3.3125,  1.5625, 15.0625,\n",
              "         3.125 ,  4.0625,  7.0625, 18.0625, 16.5625, 17.5625, 30.0625],\n",
              "       [ 6.3125, 22.5625, 14.0625,  0.    ,  4.25  , 10.    ,  1.    ,\n",
              "        26.5625, 20.    ,  8.    ,  4.    , 10.    , 22.25  , 16.    ],\n",
              "       [ 0.8125,  7.8125,  3.3125,  4.25  ,  0.    ,  1.25  ,  4.25  ,\n",
              "         9.5625,  6.25  ,  2.25  ,  6.25  ,  7.25  , 12.5   , 16.25  ],\n",
              "       [ 1.8125,  4.0625,  1.5625, 10.    ,  1.25  ,  0.    ,  9.    ,\n",
              "         4.0625,  2.    ,  2.    , 10.    ,  8.    ,  9.25  , 18.    ],\n",
              "       [ 7.8125, 23.5625, 15.0625,  1.    ,  4.25  ,  9.    ,  0.    ,\n",
              "        25.0625, 17.    ,  5.    ,  1.    ,  5.    , 15.25  ,  9.    ],\n",
              "       [ 8.5   ,  1.625 ,  3.125 , 26.5625,  9.5625,  4.0625, 25.0625,\n",
              "         0.    ,  1.5625,  9.5625, 25.5625, 19.0625, 13.8125, 32.5625],\n",
              "       [ 7.3125,  4.5625,  4.0625, 20.    ,  6.25  ,  2.    , 17.    ,\n",
              "         1.5625,  0.    ,  4.    , 16.    , 10.    ,  6.25  , 20.    ],\n",
              "       [ 5.3125, 11.5625,  7.0625,  8.    ,  2.25  ,  2.    ,  5.    ,\n",
              "         9.5625,  4.    ,  0.    ,  4.    ,  2.    ,  4.25  ,  8.    ],\n",
              "       [11.3125, 26.5625, 18.0625,  4.    ,  6.25  , 10.    ,  1.    ,\n",
              "        25.5625, 16.    ,  4.    ,  0.    ,  2.    , 10.25  ,  4.    ],\n",
              "       [12.8125, 23.0625, 16.5625, 10.    ,  7.25  ,  8.    ,  5.    ,\n",
              "        19.0625, 10.    ,  2.    ,  2.    ,  0.    ,  3.25  ,  2.    ],\n",
              "       [18.0625, 21.0625, 17.5625, 22.25  , 12.5   ,  9.25  , 15.25  ,\n",
              "        13.8125,  6.25  ,  4.25  , 10.25  ,  3.25  ,  0.    ,  6.25  ],\n",
              "       [24.3125, 38.5625, 30.0625, 16.    , 16.25  , 18.    ,  9.    ,\n",
              "        32.5625, 20.    ,  8.    ,  4.    ,  2.    ,  6.25  ,  0.    ]])"
            ]
          },
          "metadata": {},
          "execution_count": 9
        }
      ]
    },
    {
      "cell_type": "code",
      "metadata": {
        "colab": {
          "base_uri": "https://localhost:8080/"
        },
        "id": "6qqukYWwj1Jw",
        "outputId": "aa336e7a-798f-4ee8-f741-ec4cfe2febe4"
      },
      "source": [
        "### Finding different class patterns closest to chosen pattern\n",
        "row = dist[r,:]*np.transpose(mask) [0]\n",
        "d = np.min(row[np.nonzero(row)])\n",
        "d"
      ],
      "execution_count": null,
      "outputs": [
        {
          "output_type": "execute_result",
          "data": {
            "text/plain": [
              "4.0625"
            ]
          },
          "metadata": {},
          "execution_count": 10
        }
      ]
    },
    {
      "cell_type": "code",
      "metadata": {
        "id": "8QAJRsHE8OPQ",
        "colab": {
          "base_uri": "https://localhost:8080/"
        },
        "outputId": "46fc7669-e024-48e0-e623-7fc5f9dc5d2e"
      },
      "source": [
        "row"
      ],
      "execution_count": null,
      "outputs": [
        {
          "output_type": "execute_result",
          "data": {
            "text/plain": [
              "array([ 8.5   ,  0.    ,  0.    , 26.5625,  9.5625,  4.0625, 25.0625,\n",
              "        0.    ,  0.    ,  0.    ,  0.    ,  0.    ,  0.    ,  0.    ])"
            ]
          },
          "metadata": {},
          "execution_count": 11
        }
      ]
    },
    {
      "cell_type": "code",
      "metadata": {
        "colab": {
          "base_uri": "https://localhost:8080/"
        },
        "id": "V31DSuc8kX_A",
        "outputId": "9ed0b482-0b9e-4d08-da4e-586b5b6597a4"
      },
      "source": [
        "### Nearest border pattern\n",
        "s = np.where( row == d)\n",
        "p = s[0][0]\n",
        "p"
      ],
      "execution_count": null,
      "outputs": [
        {
          "output_type": "execute_result",
          "data": {
            "text/plain": [
              "5"
            ]
          },
          "metadata": {},
          "execution_count": 12
        }
      ]
    },
    {
      "cell_type": "code",
      "metadata": {
        "colab": {
          "base_uri": "https://localhost:8080/"
        },
        "id": "u0-76Mah7R1f",
        "outputId": "bb1eb730-81b7-423d-e690-57d8bf81953b"
      },
      "source": [
        "X[r]  "
      ],
      "execution_count": null,
      "outputs": [
        {
          "output_type": "execute_result",
          "data": {
            "text/plain": [
              "array([-2.  ,  0.25])"
            ]
          },
          "metadata": {},
          "execution_count": 13
        }
      ]
    },
    {
      "cell_type": "code",
      "metadata": {
        "colab": {
          "base_uri": "https://localhost:8080/"
        },
        "id": "4uL9zxf07RqD",
        "outputId": "bf04469a-9246-451f-b7bb-c779e2c25e95"
      },
      "source": [
        "X[p]"
      ],
      "execution_count": null,
      "outputs": [
        {
          "output_type": "execute_result",
          "data": {
            "text/plain": [
              "array([0., 0.])"
            ]
          },
          "metadata": {},
          "execution_count": 14
        }
      ]
    },
    {
      "cell_type": "markdown",
      "metadata": {
        "id": "VsSH_ch91Y86"
      },
      "source": [
        "### Draw the circle"
      ]
    },
    {
      "cell_type": "code",
      "metadata": {
        "colab": {
          "base_uri": "https://localhost:8080/"
        },
        "id": "kT6VVjhRkx9z",
        "outputId": "10a4ce49-47de-4057-f9f8-73785f720c90"
      },
      "source": [
        "### Extract indices of points lying in the circle\n",
        "def draw_circle(r,p,dist):\n",
        "  row = dist[r,:]\n",
        "  arr = np.where(row <= dist[r,p])\n",
        "  return arr[0]\n",
        "\n",
        "pts_arr = draw_circle(r,p,dist)\n",
        "pts_arr"
      ],
      "execution_count": null,
      "outputs": [
        {
          "output_type": "execute_result",
          "data": {
            "text/plain": [
              "array([1, 2, 5, 7, 8])"
            ]
          },
          "metadata": {},
          "execution_count": 15
        }
      ]
    },
    {
      "cell_type": "code",
      "metadata": {
        "colab": {
          "base_uri": "https://localhost:8080/"
        },
        "id": "ZPkV4PlOqUeL",
        "outputId": "e82e87c4-c4b2-45b1-df74-39cacbecffd0"
      },
      "source": [
        "### Reduced distance matrix\n",
        "temp = dist[pts_arr,:]\n",
        "dist_circle = temp[:,pts_arr]\n",
        "dist_circle"
      ],
      "execution_count": null,
      "outputs": [
        {
          "output_type": "execute_result",
          "data": {
            "text/plain": [
              "array([[0.    , 1.    , 4.0625, 1.625 , 4.5625],\n",
              "       [1.    , 0.    , 1.5625, 3.125 , 4.0625],\n",
              "       [4.0625, 1.5625, 0.    , 4.0625, 2.    ],\n",
              "       [1.625 , 3.125 , 4.0625, 0.    , 1.5625],\n",
              "       [4.5625, 4.0625, 2.    , 1.5625, 0.    ]])"
            ]
          },
          "metadata": {},
          "execution_count": 16
        }
      ]
    },
    {
      "cell_type": "code",
      "metadata": {
        "colab": {
          "base_uri": "https://localhost:8080/"
        },
        "id": "yoPNyB7mtCI2",
        "outputId": "8b4ff3cc-c36b-4be1-c7c5-b8e760300bee"
      },
      "source": [
        "### Reduced Y_matrix\n",
        "Y_circle = Y[pts_arr]\n",
        "Y_circle"
      ],
      "execution_count": null,
      "outputs": [
        {
          "output_type": "execute_result",
          "data": {
            "text/plain": [
              "array([[1],\n",
              "       [1],\n",
              "       [0],\n",
              "       [1],\n",
              "       [1]])"
            ]
          },
          "metadata": {},
          "execution_count": 17
        }
      ]
    },
    {
      "cell_type": "code",
      "metadata": {
        "colab": {
          "base_uri": "https://localhost:8080/"
        },
        "id": "Ii3CfnZOvakr",
        "outputId": "d31c7b94-023c-45f1-b1fd-6acf0bcf2d4e"
      },
      "source": [
        "### Reduced X_matrix\n",
        "X_circle = X[pts_arr]\n",
        "X_circle"
      ],
      "execution_count": null,
      "outputs": [
        {
          "output_type": "execute_result",
          "data": {
            "text/plain": [
              "array([[-1.75, -1.  ],\n",
              "       [-0.75, -1.  ],\n",
              "       [ 0.  ,  0.  ],\n",
              "       [-2.  ,  0.25],\n",
              "       [-1.  ,  1.  ]])"
            ]
          },
          "metadata": {},
          "execution_count": 18
        }
      ]
    },
    {
      "cell_type": "markdown",
      "metadata": {
        "id": "1fpDhcH_ztcd"
      },
      "source": [
        "### Find Border Pairs inside the circle"
      ]
    },
    {
      "cell_type": "code",
      "metadata": {
        "id": "iG13-JYhz4WI"
      },
      "source": [
        "### Find out all border pair points\n",
        "def border_pair(dist, X, Y):\n",
        "  bord_indx = []\n",
        "  midpts = []\n",
        "  bord_pairs = []\n",
        "  it = np.nditer(dist, flags=['multi_index'])\n",
        "  for d in it:\n",
        "    i,j = it.multi_index\n",
        "    if i != j and i < j and Y[i] != Y[j]:\n",
        "        mask_row = np.transpose(Y != Y[i])\n",
        "        mask_column = (Y != Y[j])\n",
        "        row = dist[i,:] * mask_row\n",
        "        column = dist[:,j] * mask_column\n",
        "        if d == np.min(row[np.nonzero(row)]) and dist[i,j] == np.min(column[np.nonzero(column)]):\n",
        "          print(\" {} and {} are border pairs\".format(i,j) )\n",
        "          temp = [i,j]\n",
        "          temp_mid = (X[i,:] + X[j,:])/2        \n",
        "          bord_indx.append(temp)\n",
        "          midpts.append(temp_mid)\n",
        "  bord_pairs = [bord_indx, midpts]\n",
        "  print(bord_pairs)\n",
        "  return bord_pairs"
      ],
      "execution_count": null,
      "outputs": []
    },
    {
      "cell_type": "code",
      "metadata": {
        "colab": {
          "base_uri": "https://localhost:8080/"
        },
        "id": "HyZkXF7fx-R3",
        "outputId": "f0fddd51-69b9-4e71-b8f6-87519a6db17c"
      },
      "source": [
        "### Searching Border Pairs inside the circle \n",
        "bord_pairs = border_pair(dist_circle, X_circle, Y_circle)"
      ],
      "execution_count": null,
      "outputs": [
        {
          "output_type": "stream",
          "name": "stdout",
          "text": [
            " 1 and 2 are border pairs\n",
            "[[[1, 2]], [array([-0.375, -0.5  ])]]\n"
          ]
        }
      ]
    },
    {
      "cell_type": "code",
      "metadata": {
        "colab": {
          "base_uri": "https://localhost:8080/"
        },
        "id": "93kajH0Fg-7i",
        "outputId": "5b6e394e-360a-4859-e4b7-047cd41f4c38"
      },
      "source": [
        "X_circle[1]"
      ],
      "execution_count": null,
      "outputs": [
        {
          "output_type": "execute_result",
          "data": {
            "text/plain": [
              "array([-0.75, -1.  ])"
            ]
          },
          "metadata": {},
          "execution_count": 21
        }
      ]
    },
    {
      "cell_type": "code",
      "metadata": {
        "colab": {
          "base_uri": "https://localhost:8080/"
        },
        "id": "IvwMtplghB0y",
        "outputId": "60fafbd5-067b-4ae7-fcc7-de5368b9fb12"
      },
      "source": [
        "X_circle[2]"
      ],
      "execution_count": null,
      "outputs": [
        {
          "output_type": "execute_result",
          "data": {
            "text/plain": [
              "array([0., 0.])"
            ]
          },
          "metadata": {},
          "execution_count": 22
        }
      ]
    },
    {
      "cell_type": "markdown",
      "metadata": {
        "id": "_I1Aza_R06bV"
      },
      "source": [
        "### Draw Border Line in the circle"
      ]
    },
    {
      "cell_type": "code",
      "metadata": {
        "id": "uWIF4SXF5JQA",
        "colab": {
          "base_uri": "https://localhost:8080/"
        },
        "outputId": "62df4040-e4a4-462f-8e99-8891b7b53fe8"
      },
      "source": [
        "### Forming triplet for drawing Border Line\n",
        "def triple_pt(bord_pairs, X_circle):\n",
        "  bord_indx, midpts = bord_pairs[0], bord_pairs[1]\n",
        "  l = np.shape(bord_indx)[0] \n",
        "  v = np.random.randint(l)\n",
        "  a, b = bord_indx[v][0],bord_indx[v][1]\n",
        "  xm = midpts[v]\n",
        "  arr = np.sum(np.square(X_circle - xm), axis=1)\n",
        "  arr[a] = 0\n",
        "  arr[b] = 0\n",
        "  r = np.min(arr[np.nonzero(arr)])\n",
        "  s = np.where(arr == r)\n",
        "  x0 = X_circle[s[0][0]]\n",
        "  x1 = X_circle[a]\n",
        "  x2 = X_circle[b]\n",
        "  print(arr)\n",
        "  print(s)\n",
        "  return s, x0, x1, x2\n",
        "\n",
        "\n",
        "s, x0, x1, x2 = triple_pt(bord_pairs, X_circle)"
      ],
      "execution_count": null,
      "outputs": [
        {
          "output_type": "stream",
          "name": "stdout",
          "text": [
            "[2.140625 0.       0.       3.203125 2.640625]\n",
            "(array([0]),)\n"
          ]
        }
      ]
    },
    {
      "cell_type": "code",
      "metadata": {
        "colab": {
          "base_uri": "https://localhost:8080/"
        },
        "id": "CkEV9Yff5VzL",
        "outputId": "c77b556b-b574-4634-e53f-30e509987848"
      },
      "source": [
        "x0 = np.array([-1.0, 1.0])\n",
        "x0"
      ],
      "execution_count": null,
      "outputs": [
        {
          "output_type": "execute_result",
          "data": {
            "text/plain": [
              "array([-1.,  1.])"
            ]
          },
          "metadata": {},
          "execution_count": 24
        }
      ]
    },
    {
      "cell_type": "code",
      "metadata": {
        "colab": {
          "base_uri": "https://localhost:8080/"
        },
        "id": "h9bjFU84hM0p",
        "outputId": "f0c224e0-4fa1-470a-a0ed-c308dbdc91b3"
      },
      "source": [
        "x1"
      ],
      "execution_count": null,
      "outputs": [
        {
          "output_type": "execute_result",
          "data": {
            "text/plain": [
              "array([-0.75, -1.  ])"
            ]
          },
          "metadata": {},
          "execution_count": 25
        }
      ]
    },
    {
      "cell_type": "code",
      "metadata": {
        "colab": {
          "base_uri": "https://localhost:8080/"
        },
        "id": "9nVjY0K3hMOA",
        "outputId": "5497bb42-4dfe-456a-81e7-0acb1bc9d957"
      },
      "source": [
        "x2"
      ],
      "execution_count": null,
      "outputs": [
        {
          "output_type": "execute_result",
          "data": {
            "text/plain": [
              "array([0., 0.])"
            ]
          },
          "metadata": {},
          "execution_count": 26
        }
      ]
    },
    {
      "cell_type": "code",
      "metadata": {
        "id": "0ybuVG6l-TVC",
        "colab": {
          "base_uri": "https://localhost:8080/"
        },
        "outputId": "59075a10-3ae3-42a4-9da7-c6b2c7c28e60"
      },
      "source": [
        "### Draw the border line that maximises the margin \n",
        "def margin_weights2D(s, x0, x1, x2, Y_circle, bord_pairs):\n",
        "  bord_indx,_ = bord_pairs\n",
        "  x1i = Y_circle[bord_indx[0][0]]\n",
        "  x2i = Y_circle[bord_indx[0][1]]\n",
        "  x0i = Y_circle[s[0][0]]\n",
        "  arr = np.stack((x1, x0, x2), axis=-1)\n",
        "  arr = np.vstack((arr, [1,1,1]))\n",
        "  weights = np.matmul(np.array([x1i[0], x0i[0], x2i[0]]), np.linalg.pinv(arr)) # pinv for singular matrices\n",
        "  return weights\n",
        "\n",
        "weights = margin_weights2D(s, x0, x1, x2, Y_circle, bord_pairs)\n",
        "weights"
      ],
      "execution_count": null,
      "outputs": [
        {
          "output_type": "execute_result",
          "data": {
            "text/plain": [
              "array([-1.14285714e+00, -1.42857143e-01,  1.50486674e-16])"
            ]
          },
          "metadata": {},
          "execution_count": 27
        }
      ]
    },
    {
      "cell_type": "markdown",
      "metadata": {
        "id": "fE93SS9OYP8w"
      },
      "source": [
        "### Visualise the straight line"
      ]
    },
    {
      "cell_type": "code",
      "metadata": {
        "colab": {
          "base_uri": "https://localhost:8080/"
        },
        "id": "zkuH_1mCM-u3",
        "outputId": "c6d13bfe-b4d0-4a90-92c8-4967aaf92903"
      },
      "source": [
        "a,b,c = weights\n",
        "c"
      ],
      "execution_count": null,
      "outputs": [
        {
          "output_type": "execute_result",
          "data": {
            "text/plain": [
              "1.5048667416626956e-16"
            ]
          },
          "metadata": {},
          "execution_count": 28
        }
      ]
    },
    {
      "cell_type": "code",
      "metadata": {
        "colab": {
          "base_uri": "https://localhost:8080/"
        },
        "id": "HrR7tiq_Ipw5",
        "outputId": "112caec0-e317-4447-faac-605cc4e22c1d"
      },
      "source": [
        "n = Y.shape[0]\n",
        "cat = Y.reshape((n,))\n",
        "cat.shape "
      ],
      "execution_count": null,
      "outputs": [
        {
          "output_type": "execute_result",
          "data": {
            "text/plain": [
              "(14,)"
            ]
          },
          "metadata": {},
          "execution_count": 29
        }
      ]
    },
    {
      "cell_type": "code",
      "metadata": {
        "colab": {
          "base_uri": "https://localhost:8080/",
          "height": 265
        },
        "id": "RbQYbyvAIpw7",
        "outputId": "5736093b-6980-4a26-c2be-118d2c25e065"
      },
      "source": [
        "colors = np.array([ 'r' , 'b' ])\n",
        "axes = plt.gca()\n",
        "plt.scatter(A, B, s=80 ,c=colors[cat])\n",
        "\n",
        "if round(b) != 0:\n",
        "  x_vals = np.array(axes.get_xlim())\n",
        "  intercept = (-c+0.5)/b\n",
        "  slope = - a/b\n",
        "  y_vals = intercept + slope * x_vals\n",
        "  plt.plot(x_vals, y_vals, '--')\n",
        "else :\n",
        "  plt.axvline(x = (0.5 - c)/a, linestyle='--')\n",
        "\n",
        "\n",
        "plt.savefig('DataPlot.png')\n",
        "plt.show()"
      ],
      "execution_count": null,
      "outputs": [
        {
          "output_type": "display_data",
          "data": {
            "image/png": "[encoded data removed]",
            "text/plain": [
              "<Figure size 432x288 with 1 Axes>"
            ]
          },
          "metadata": {
            "needs_background": "light"
          }
        }
      ]
    },
    {
      "cell_type": "markdown",
      "metadata": {
        "id": "xDBELqqr6lbd"
      },
      "source": [
        "### Exclude Homogeneous areas"
      ]
    },
    {
      "cell_type": "code",
      "metadata": {
        "id": "-mh73HbTIg4K",
        "colab": {
          "base_uri": "https://localhost:8080/"
        },
        "outputId": "eb30bbdd-7282-4b2f-aa0b-a1def7a87999"
      },
      "source": [
        "m = X.shape[0]\n",
        "id = np.ones(m).reshape((m,1))\n",
        "X_ex = np.hstack((X, id))\n",
        "temp = np.matmul(X_ex, np.transpose(weights))\n",
        "## Positive section\n",
        "p_ind = np.where(temp >= 0.5)\n",
        "\n",
        "## Negative section\n",
        "n_ind = np.where(temp < 0.5)\n",
        "\n",
        "## Checking for homogeneous areas on any side\n",
        "if np.all(Y[p_ind] == 1):\n",
        "  X_del = X[n_ind]\n",
        "  Y_del = Y[n_ind]\n",
        "\n",
        "if np.all(Y[n_ind] == 0):\n",
        "  X_del = X[p_ind]\n",
        "  Y_del = Y[p_ind]\n",
        "\n",
        "X_del ## after excluding homogeneous area"
      ],
      "execution_count": null,
      "outputs": [
        {
          "output_type": "execute_result",
          "data": {
            "text/plain": [
              "array([[ 0.5 , -1.25],\n",
              "       [ 3.  , -1.  ],\n",
              "       [ 1.  , -0.5 ],\n",
              "       [ 0.  ,  0.  ],\n",
              "       [ 3.  ,  0.  ],\n",
              "       [ 1.  ,  1.  ],\n",
              "       [ 3.  ,  1.  ],\n",
              "       [ 2.  ,  2.  ],\n",
              "       [ 0.5 ,  3.  ],\n",
              "       [ 3.  ,  3.  ]])"
            ]
          },
          "metadata": {},
          "execution_count": 31
        }
      ]
    },
    {
      "cell_type": "code",
      "metadata": {
        "colab": {
          "base_uri": "https://localhost:8080/"
        },
        "id": "cCU7o2WzFnSC",
        "outputId": "5c7738bb-0be6-440e-b596-a6cb77fb252f"
      },
      "source": [
        "## Additional cross-check till next section\n",
        "np.matmul(X_ex[p_ind], np.transpose(weights))"
      ],
      "execution_count": null,
      "outputs": [
        {
          "output_type": "execute_result",
          "data": {
            "text/plain": [
              "array([2.14285714, 1.        , 2.25      , 1.        ])"
            ]
          },
          "metadata": {},
          "execution_count": 32
        }
      ]
    },
    {
      "cell_type": "code",
      "metadata": {
        "colab": {
          "base_uri": "https://localhost:8080/"
        },
        "id": "TDDi3COZJOS7",
        "outputId": "fec434d7-d7c9-4e91-9ad7-864bc7dfb403"
      },
      "source": [
        "Y[p_ind]"
      ],
      "execution_count": null,
      "outputs": [
        {
          "output_type": "execute_result",
          "data": {
            "text/plain": [
              "array([[1],\n",
              "       [1],\n",
              "       [1],\n",
              "       [1]])"
            ]
          },
          "metadata": {},
          "execution_count": 33
        }
      ]
    },
    {
      "cell_type": "code",
      "metadata": {
        "colab": {
          "base_uri": "https://localhost:8080/"
        },
        "id": "JXgzlxPdGLRL",
        "outputId": "adf9e7a4-1953-48b0-d06b-8eb2c7f1d5cd"
      },
      "source": [
        "np.matmul(X_ex[n_ind], np.transpose(weights))"
      ],
      "execution_count": null,
      "outputs": [
        {
          "output_type": "execute_result",
          "data": {
            "text/plain": [
              "array([-3.92857143e-01, -3.28571429e+00, -1.07142857e+00,  1.50486674e-16,\n",
              "       -3.42857143e+00, -1.28571429e+00, -3.57142857e+00, -2.57142857e+00,\n",
              "       -1.00000000e+00, -3.85714286e+00])"
            ]
          },
          "metadata": {},
          "execution_count": 34
        }
      ]
    },
    {
      "cell_type": "code",
      "metadata": {
        "colab": {
          "base_uri": "https://localhost:8080/"
        },
        "id": "YSGwI0W-GhhF",
        "outputId": "4c29af63-96d3-4beb-8eda-aebee3eb55d1"
      },
      "source": [
        "Y[n_ind]"
      ],
      "execution_count": null,
      "outputs": [
        {
          "output_type": "execute_result",
          "data": {
            "text/plain": [
              "array([[0],\n",
              "       [0],\n",
              "       [0],\n",
              "       [0],\n",
              "       [0],\n",
              "       [1],\n",
              "       [1],\n",
              "       [1],\n",
              "       [1],\n",
              "       [1]])"
            ]
          },
          "metadata": {},
          "execution_count": 35
        }
      ]
    },
    {
      "cell_type": "markdown",
      "metadata": {
        "id": "kiOiJC8XKQdW"
      },
      "source": [
        "### Visualise the input for second neuron"
      ]
    },
    {
      "cell_type": "code",
      "metadata": {
        "colab": {
          "base_uri": "https://localhost:8080/"
        },
        "id": "kPKny0cnGosT",
        "outputId": "17317a9d-d3ac-493d-856d-68f32955af22"
      },
      "source": [
        "n = Y_del.shape[0]\n",
        "cat = Y_del.reshape((n,))\n",
        "cat.shape "
      ],
      "execution_count": null,
      "outputs": [
        {
          "output_type": "execute_result",
          "data": {
            "text/plain": [
              "(10,)"
            ]
          },
          "metadata": {},
          "execution_count": 36
        }
      ]
    },
    {
      "cell_type": "code",
      "metadata": {
        "colab": {
          "base_uri": "https://localhost:8080/",
          "height": 265
        },
        "id": "MRLWrx8dJvgj",
        "outputId": "f071fa05-bcbe-4da8-cdd4-674254183fb0"
      },
      "source": [
        "colors = np.array([ 'r' , 'b' ])\n",
        "A = X_del[:,0]\n",
        "B = X_del[:,1]\n",
        "plt.scatter(A, B, s=80 ,c=colors[cat])\n",
        "plt.savefig('DataPlot.png')\n",
        "plt.show()"
      ],
      "execution_count": null,
      "outputs": [
        {
          "output_type": "display_data",
          "data": {
            "image/png": "[encoded data removed]",
            "text/plain": [
              "<Figure size 432x288 with 1 Axes>"
            ]
          },
          "metadata": {
            "needs_background": "light"
          }
        }
      ]
    },
    {
      "cell_type": "markdown",
      "metadata": {
        "id": "N8Ifyf9o7ttF"
      },
      "source": [
        "## *Second Neuron*"
      ]
    },
    {
      "cell_type": "markdown",
      "metadata": {
        "id": "14Fg50EZ8Mtr"
      },
      "source": [
        "### Choosing a random pattern"
      ]
    },
    {
      "cell_type": "code",
      "metadata": {
        "colab": {
          "base_uri": "https://localhost:8080/"
        },
        "id": "MYkYSMk48LM1",
        "outputId": "988bfb6e-5093-4d80-f2b6-048b00f75960"
      },
      "source": [
        "### Choosing a random pattern\n",
        "n = X_del.shape[0]\n",
        "r = np.random.randint(0,n)\n",
        "r = 5\n",
        "r"
      ],
      "execution_count": null,
      "outputs": [
        {
          "output_type": "execute_result",
          "data": {
            "text/plain": [
              "5"
            ]
          },
          "metadata": {},
          "execution_count": 38
        }
      ]
    },
    {
      "cell_type": "code",
      "metadata": {
        "colab": {
          "base_uri": "https://localhost:8080/"
        },
        "id": "UWXjvFNi8LM2",
        "outputId": "f6876865-9778-48fd-8437-2dfbad2b5beb"
      },
      "source": [
        "### Creating mask\n",
        "mask = (Y_del != Y_del[r])\n",
        "mask"
      ],
      "execution_count": null,
      "outputs": [
        {
          "output_type": "execute_result",
          "data": {
            "text/plain": [
              "array([[ True],\n",
              "       [ True],\n",
              "       [ True],\n",
              "       [ True],\n",
              "       [ True],\n",
              "       [False],\n",
              "       [False],\n",
              "       [False],\n",
              "       [False],\n",
              "       [False]])"
            ]
          },
          "metadata": {},
          "execution_count": 39
        }
      ]
    },
    {
      "cell_type": "markdown",
      "metadata": {
        "id": "REq-v23x8eh-"
      },
      "source": [
        "### Finding nearest Border Pattern"
      ]
    },
    {
      "cell_type": "code",
      "metadata": {
        "colab": {
          "base_uri": "https://localhost:8080/"
        },
        "id": "WiZmZrLXCv69",
        "outputId": "c0828508-a68c-4c15-af0a-349997faf4ad"
      },
      "source": [
        "### Distance matrix\n",
        "dist_del = np.zeros((n,n))\n",
        "for i in range(n):\n",
        "    temp = np.sum(np.square(X_del - X_del[i,:]), axis=1)\n",
        "    dist_del[i,:] = np.transpose(temp)\n",
        "\n",
        "dist_del"
      ],
      "execution_count": null,
      "outputs": [
        {
          "output_type": "execute_result",
          "data": {
            "text/plain": [
              "array([[ 0.    ,  6.3125,  0.8125,  1.8125,  7.8125,  5.3125, 11.3125,\n",
              "        12.8125, 18.0625, 24.3125],\n",
              "       [ 6.3125,  0.    ,  4.25  , 10.    ,  1.    ,  8.    ,  4.    ,\n",
              "        10.    , 22.25  , 16.    ],\n",
              "       [ 0.8125,  4.25  ,  0.    ,  1.25  ,  4.25  ,  2.25  ,  6.25  ,\n",
              "         7.25  , 12.5   , 16.25  ],\n",
              "       [ 1.8125, 10.    ,  1.25  ,  0.    ,  9.    ,  2.    , 10.    ,\n",
              "         8.    ,  9.25  , 18.    ],\n",
              "       [ 7.8125,  1.    ,  4.25  ,  9.    ,  0.    ,  5.    ,  1.    ,\n",
              "         5.    , 15.25  ,  9.    ],\n",
              "       [ 5.3125,  8.    ,  2.25  ,  2.    ,  5.    ,  0.    ,  4.    ,\n",
              "         2.    ,  4.25  ,  8.    ],\n",
              "       [11.3125,  4.    ,  6.25  , 10.    ,  1.    ,  4.    ,  0.    ,\n",
              "         2.    , 10.25  ,  4.    ],\n",
              "       [12.8125, 10.    ,  7.25  ,  8.    ,  5.    ,  2.    ,  2.    ,\n",
              "         0.    ,  3.25  ,  2.    ],\n",
              "       [18.0625, 22.25  , 12.5   ,  9.25  , 15.25  ,  4.25  , 10.25  ,\n",
              "         3.25  ,  0.    ,  6.25  ],\n",
              "       [24.3125, 16.    , 16.25  , 18.    ,  9.    ,  8.    ,  4.    ,\n",
              "         2.    ,  6.25  ,  0.    ]])"
            ]
          },
          "metadata": {},
          "execution_count": 40
        }
      ]
    },
    {
      "cell_type": "code",
      "metadata": {
        "colab": {
          "base_uri": "https://localhost:8080/"
        },
        "id": "iHkZU6u28eh_",
        "outputId": "741bf31f-310b-435d-f0dd-712779c0b594"
      },
      "source": [
        "### Finding different class patterns closest to chosen pattern\n",
        "row = dist_del[r,:]*np.transpose(mask) [0]\n",
        "d = np.min(row[np.nonzero(row)])\n",
        "d"
      ],
      "execution_count": null,
      "outputs": [
        {
          "output_type": "execute_result",
          "data": {
            "text/plain": [
              "2.0"
            ]
          },
          "metadata": {},
          "execution_count": 41
        }
      ]
    },
    {
      "cell_type": "code",
      "metadata": {
        "colab": {
          "base_uri": "https://localhost:8080/"
        },
        "id": "IbYAnSXo8eh_",
        "outputId": "b4056194-0297-4298-d692-ffb9a2f43e5c"
      },
      "source": [
        "### Nearest border pattern\n",
        "s = np.where( row == d)\n",
        "p = s[0][0]\n",
        "p"
      ],
      "execution_count": null,
      "outputs": [
        {
          "output_type": "execute_result",
          "data": {
            "text/plain": [
              "3"
            ]
          },
          "metadata": {},
          "execution_count": 42
        }
      ]
    },
    {
      "cell_type": "code",
      "metadata": {
        "colab": {
          "base_uri": "https://localhost:8080/"
        },
        "id": "wJhSFrN2DFuI",
        "outputId": "0e706fb8-55c5-4dd1-8dce-97d113daebd7"
      },
      "source": [
        "X_del[p]"
      ],
      "execution_count": null,
      "outputs": [
        {
          "output_type": "execute_result",
          "data": {
            "text/plain": [
              "array([0., 0.])"
            ]
          },
          "metadata": {},
          "execution_count": 43
        }
      ]
    },
    {
      "cell_type": "code",
      "metadata": {
        "colab": {
          "base_uri": "https://localhost:8080/"
        },
        "id": "997UzkSBDIgO",
        "outputId": "7c3110f9-652b-451f-e8cc-c07bdb38ee39"
      },
      "source": [
        "X_del[r]"
      ],
      "execution_count": null,
      "outputs": [
        {
          "output_type": "execute_result",
          "data": {
            "text/plain": [
              "array([1., 1.])"
            ]
          },
          "metadata": {},
          "execution_count": 44
        }
      ]
    },
    {
      "cell_type": "markdown",
      "metadata": {
        "id": "OrkAH7K68902"
      },
      "source": [
        "### Draw the circle"
      ]
    },
    {
      "cell_type": "code",
      "metadata": {
        "colab": {
          "base_uri": "https://localhost:8080/"
        },
        "id": "tlBUVhpw9EEN",
        "outputId": "ed21e6b7-9e5f-4727-e55c-1a6ef3978ddc"
      },
      "source": [
        "pts_arr = draw_circle(r,p,dist_del)\n",
        "pts_arr"
      ],
      "execution_count": null,
      "outputs": [
        {
          "output_type": "execute_result",
          "data": {
            "text/plain": [
              "array([3, 5, 7])"
            ]
          },
          "metadata": {},
          "execution_count": 45
        }
      ]
    },
    {
      "cell_type": "code",
      "metadata": {
        "colab": {
          "base_uri": "https://localhost:8080/"
        },
        "id": "VUnS_MQ88903",
        "outputId": "1997dcfd-8570-43d2-a22b-06edffc3f329"
      },
      "source": [
        "### Reduced distance matrix\n",
        "temp = dist_del[pts_arr,:]\n",
        "dist_circle = temp[:,pts_arr]\n",
        "dist_circle"
      ],
      "execution_count": null,
      "outputs": [
        {
          "output_type": "execute_result",
          "data": {
            "text/plain": [
              "array([[0., 2., 8.],\n",
              "       [2., 0., 2.],\n",
              "       [8., 2., 0.]])"
            ]
          },
          "metadata": {},
          "execution_count": 46
        }
      ]
    },
    {
      "cell_type": "code",
      "metadata": {
        "colab": {
          "base_uri": "https://localhost:8080/"
        },
        "id": "mDGirbHc8903",
        "outputId": "8f25abc1-7e1c-45a3-8cbc-449087922363"
      },
      "source": [
        "### Reduced Y_matrix\n",
        "Y_circle = Y_del[pts_arr]\n",
        "Y_circle"
      ],
      "execution_count": null,
      "outputs": [
        {
          "output_type": "execute_result",
          "data": {
            "text/plain": [
              "array([[0],\n",
              "       [1],\n",
              "       [1]])"
            ]
          },
          "metadata": {},
          "execution_count": 47
        }
      ]
    },
    {
      "cell_type": "code",
      "metadata": {
        "colab": {
          "base_uri": "https://localhost:8080/"
        },
        "id": "DL1PzlqR8904",
        "outputId": "f105d442-4c5a-46e1-f2eb-75ea94b8d110"
      },
      "source": [
        "### Reduced X_matrix\n",
        "X_circle = X_del[pts_arr]\n",
        "X_circle"
      ],
      "execution_count": null,
      "outputs": [
        {
          "output_type": "execute_result",
          "data": {
            "text/plain": [
              "array([[0., 0.],\n",
              "       [1., 1.],\n",
              "       [2., 2.]])"
            ]
          },
          "metadata": {},
          "execution_count": 48
        }
      ]
    },
    {
      "cell_type": "markdown",
      "metadata": {
        "id": "PUV63bn6BeuG"
      },
      "source": [
        "### Find Border Pairs inside the circle"
      ]
    },
    {
      "cell_type": "code",
      "metadata": {
        "colab": {
          "base_uri": "https://localhost:8080/"
        },
        "id": "cKfKbQzBBeuQ",
        "outputId": "4d3b6b8c-e2c6-4307-e48a-509b24b6b698"
      },
      "source": [
        "### Searching Border Pairs inside the circle \n",
        "bord_pairs = border_pair(dist_circle, X_circle, Y_circle)"
      ],
      "execution_count": null,
      "outputs": [
        {
          "output_type": "stream",
          "name": "stdout",
          "text": [
            " 0 and 1 are border pairs\n",
            "[[[0, 1]], [array([0.5, 0.5])]]\n"
          ]
        }
      ]
    },
    {
      "cell_type": "code",
      "metadata": {
        "colab": {
          "base_uri": "https://localhost:8080/"
        },
        "id": "212F0KSxEEDD",
        "outputId": "e7d1dacd-5917-4a21-8fab-28423503ac48"
      },
      "source": [
        "X_circle[0]"
      ],
      "execution_count": null,
      "outputs": [
        {
          "output_type": "execute_result",
          "data": {
            "text/plain": [
              "array([0., 0.])"
            ]
          },
          "metadata": {},
          "execution_count": 50
        }
      ]
    },
    {
      "cell_type": "code",
      "metadata": {
        "colab": {
          "base_uri": "https://localhost:8080/"
        },
        "id": "UEdW4glTEEtX",
        "outputId": "c9fe0727-d992-43d8-b83f-a49bdcf93a92"
      },
      "source": [
        "X_circle[1]"
      ],
      "execution_count": null,
      "outputs": [
        {
          "output_type": "execute_result",
          "data": {
            "text/plain": [
              "array([1., 1.])"
            ]
          },
          "metadata": {},
          "execution_count": 51
        }
      ]
    },
    {
      "cell_type": "markdown",
      "metadata": {
        "id": "qUSCNujDB0mf"
      },
      "source": [
        "### Draw Border Line in the circle"
      ]
    },
    {
      "cell_type": "code",
      "metadata": {
        "id": "j8z4Nl3ZB0mf",
        "colab": {
          "base_uri": "https://localhost:8080/"
        },
        "outputId": "afbb55ea-548a-40cb-ed01-c38d05375910"
      },
      "source": [
        "### Forming triplet for drawing Border Line\n",
        "s, x0, x1, x2 = triple_pt(bord_pairs, X_circle)"
      ],
      "execution_count": null,
      "outputs": [
        {
          "output_type": "stream",
          "name": "stdout",
          "text": [
            "[0.  0.  4.5]\n",
            "(array([2]),)\n"
          ]
        }
      ]
    },
    {
      "cell_type": "code",
      "metadata": {
        "colab": {
          "base_uri": "https://localhost:8080/"
        },
        "id": "oJuaZhDeihPm",
        "outputId": "28aa2b48-5db8-4e70-f194-1da3154fe94d"
      },
      "source": [
        "x0 = np.array([3.0, 1.0])\n",
        "x0"
      ],
      "execution_count": null,
      "outputs": [
        {
          "output_type": "execute_result",
          "data": {
            "text/plain": [
              "array([3., 1.])"
            ]
          },
          "metadata": {},
          "execution_count": 53
        }
      ]
    },
    {
      "cell_type": "code",
      "metadata": {
        "colab": {
          "base_uri": "https://localhost:8080/"
        },
        "id": "TdD6VcJGihGS",
        "outputId": "f4a0a734-ce7a-46de-8463-504e65e45c4d"
      },
      "source": [
        "x1  "
      ],
      "execution_count": null,
      "outputs": [
        {
          "output_type": "execute_result",
          "data": {
            "text/plain": [
              "array([0., 0.])"
            ]
          },
          "metadata": {},
          "execution_count": 54
        }
      ]
    },
    {
      "cell_type": "code",
      "metadata": {
        "colab": {
          "base_uri": "https://localhost:8080/"
        },
        "id": "rITgAyUdight",
        "outputId": "b7d9b0d8-b219-4fc6-c3d1-2031591c2c88"
      },
      "source": [
        "x2"
      ],
      "execution_count": null,
      "outputs": [
        {
          "output_type": "execute_result",
          "data": {
            "text/plain": [
              "array([1., 1.])"
            ]
          },
          "metadata": {},
          "execution_count": 55
        }
      ]
    },
    {
      "cell_type": "code",
      "metadata": {
        "colab": {
          "base_uri": "https://localhost:8080/"
        },
        "id": "rzTp-eKxB0mg",
        "outputId": "8a879432-5efb-4ab6-d79d-8240f5bf3ad7"
      },
      "source": [
        "### Draw the border line that maximises the margin \n",
        "weights = margin_weights2D(s, x0, x1, x2,Y_circle, bord_pairs)\n",
        "weights"
      ],
      "execution_count": null,
      "outputs": [
        {
          "output_type": "execute_result",
          "data": {
            "text/plain": [
              "array([-2.22044605e-16,  1.00000000e+00,  5.08782649e-17])"
            ]
          },
          "metadata": {},
          "execution_count": 56
        }
      ]
    },
    {
      "cell_type": "markdown",
      "metadata": {
        "id": "xQpS30sFCEAe"
      },
      "source": [
        "### Visualise the straight line"
      ]
    },
    {
      "cell_type": "code",
      "metadata": {
        "colab": {
          "base_uri": "https://localhost:8080/"
        },
        "id": "8C4FnA6KCEAe",
        "outputId": "15af75f9-d815-4f62-ccdc-54b59184cb1a"
      },
      "source": [
        "a,b,c = weights\n",
        "c"
      ],
      "execution_count": null,
      "outputs": [
        {
          "output_type": "execute_result",
          "data": {
            "text/plain": [
              "5.087826489915717e-17"
            ]
          },
          "metadata": {},
          "execution_count": 57
        }
      ]
    },
    {
      "cell_type": "code",
      "metadata": {
        "colab": {
          "base_uri": "https://localhost:8080/"
        },
        "id": "QN8C1iiyCEAf",
        "outputId": "1ef85b86-ca8d-4711-c788-4c687ea3e214"
      },
      "source": [
        "n = Y_del.shape[0]\n",
        "cat = Y_del.reshape((n,))\n",
        "cat.shape "
      ],
      "execution_count": null,
      "outputs": [
        {
          "output_type": "execute_result",
          "data": {
            "text/plain": [
              "(10,)"
            ]
          },
          "metadata": {},
          "execution_count": 58
        }
      ]
    },
    {
      "cell_type": "code",
      "metadata": {
        "colab": {
          "base_uri": "https://localhost:8080/",
          "height": 265
        },
        "id": "o6nCFNS8CEAf",
        "outputId": "58e7258e-b5ba-4960-bbf1-2edad8aa61ca"
      },
      "source": [
        "colors = np.array([ 'r' , 'b' ])\n",
        "axes = plt.gca()\n",
        "A = X_del[:,0]\n",
        "B = X_del[:,1]\n",
        "plt.scatter(A, B, s=80 ,c=colors[cat])\n",
        "\n",
        "if round(b) != 0:\n",
        "  x_vals = np.array(axes.get_xlim())\n",
        "  intercept = (-c+0.5)/b\n",
        "  slope = - a/b\n",
        "  y_vals = intercept + slope * x_vals\n",
        "  plt.plot(x_vals, y_vals, '--')\n",
        "else :\n",
        "  plt.axvline(x = (0.5 - c)/a, linestyle='--')\n",
        "\n",
        "\n",
        "plt.savefig('DataPlot.png')\n",
        "plt.show()"
      ],
      "execution_count": null,
      "outputs": [
        {
          "output_type": "display_data",
          "data": {
            "image/png": "[encoded data removed]",
            "text/plain": [
              "<Figure size 432x288 with 1 Axes>"
            ]
          },
          "metadata": {
            "needs_background": "light"
          }
        }
      ]
    },
    {
      "cell_type": "markdown",
      "metadata": {
        "id": "Pe899dKJGA-m"
      },
      "source": [
        "### Exclude Homogeneous areas"
      ]
    },
    {
      "cell_type": "code",
      "metadata": {
        "colab": {
          "base_uri": "https://localhost:8080/"
        },
        "id": "5aVH03BRGA-m",
        "outputId": "3cdbb997-2305-4197-96f1-9c067561ea3d"
      },
      "source": [
        "m = X_del.shape[0]\n",
        "id = np.ones(m).reshape((m,1))\n",
        "X_ex = np.hstack((X_del, id))\n",
        "temp = np.matmul(X_ex, np.transpose(weights))\n",
        "## Positive section\n",
        "p_ind = np.where(temp >= 0.5)\n",
        "\n",
        "## Negative section\n",
        "n_ind = np.where(temp < 0.5)\n",
        "\n",
        "## Checking for homogeneous areas on any side\n",
        "if np.all(Y_del[p_ind] == 1):\n",
        "  X_del2 = X_del[n_ind]\n",
        "  Y_del2 = Y_del[n_ind]\n",
        "\n",
        "if np.all(Y_del[n_ind] == 0):\n",
        "  X_del2 = X_del[p_ind]\n",
        "  Y_del2 = Y_del[p_ind]\n",
        "\n",
        "X_del2 ## after excluding homogeneous area"
      ],
      "execution_count": null,
      "outputs": [
        {
          "output_type": "execute_result",
          "data": {
            "text/plain": [
              "array([[1. , 1. ],\n",
              "       [3. , 1. ],\n",
              "       [2. , 2. ],\n",
              "       [0.5, 3. ],\n",
              "       [3. , 3. ]])"
            ]
          },
          "metadata": {},
          "execution_count": 60
        }
      ]
    },
    {
      "cell_type": "code",
      "metadata": {
        "colab": {
          "base_uri": "https://localhost:8080/"
        },
        "id": "SWSey99mGsCP",
        "outputId": "11647e4f-1f70-47c5-9868-98d096b09cd4"
      },
      "source": [
        "## Additional cross-check till next section\n",
        "np.matmul(X_ex[p_ind], np.transpose(weights))"
      ],
      "execution_count": null,
      "outputs": [
        {
          "output_type": "execute_result",
          "data": {
            "text/plain": [
              "array([1., 1., 2., 3., 3.])"
            ]
          },
          "metadata": {},
          "execution_count": 61
        }
      ]
    },
    {
      "cell_type": "code",
      "metadata": {
        "colab": {
          "base_uri": "https://localhost:8080/"
        },
        "id": "GKW5YwO2GsCP",
        "outputId": "ff351c23-69e9-4af1-e1b0-ca1124e681c4"
      },
      "source": [
        "Y_del[p_ind]"
      ],
      "execution_count": null,
      "outputs": [
        {
          "output_type": "execute_result",
          "data": {
            "text/plain": [
              "array([[1],\n",
              "       [1],\n",
              "       [1],\n",
              "       [1],\n",
              "       [1]])"
            ]
          },
          "metadata": {},
          "execution_count": 62
        }
      ]
    },
    {
      "cell_type": "code",
      "metadata": {
        "colab": {
          "base_uri": "https://localhost:8080/"
        },
        "id": "pv9W-bzVGsCQ",
        "outputId": "2865a59d-0861-4710-8204-6b9f94201295"
      },
      "source": [
        "np.matmul(X_ex[n_ind], np.transpose(weights))"
      ],
      "execution_count": null,
      "outputs": [
        {
          "output_type": "execute_result",
          "data": {
            "text/plain": [
              "array([-1.25000000e+00, -1.00000000e+00, -5.00000000e-01,  5.08782649e-17,\n",
              "       -6.15255550e-16])"
            ]
          },
          "metadata": {},
          "execution_count": 63
        }
      ]
    },
    {
      "cell_type": "code",
      "metadata": {
        "colab": {
          "base_uri": "https://localhost:8080/"
        },
        "id": "AZjmqF88GsCQ",
        "outputId": "ed0ff380-a7ac-4d60-90b8-225166267699"
      },
      "source": [
        "Y_del[n_ind]"
      ],
      "execution_count": null,
      "outputs": [
        {
          "output_type": "execute_result",
          "data": {
            "text/plain": [
              "array([[0],\n",
              "       [0],\n",
              "       [0],\n",
              "       [0],\n",
              "       [0]])"
            ]
          },
          "metadata": {},
          "execution_count": 64
        }
      ]
    },
    {
      "cell_type": "markdown",
      "metadata": {
        "id": "gISlVXPwGA-n"
      },
      "source": [
        "### Visualise the input for third neuron"
      ]
    },
    {
      "cell_type": "code",
      "metadata": {
        "colab": {
          "base_uri": "https://localhost:8080/"
        },
        "id": "lWRvAyrAGA-n",
        "outputId": "e043b623-21db-4446-b0eb-c154d9197d40"
      },
      "source": [
        "n = Y_del2.shape[0]\n",
        "cat = Y_del2.reshape((n,))\n",
        "cat.shape "
      ],
      "execution_count": null,
      "outputs": [
        {
          "output_type": "execute_result",
          "data": {
            "text/plain": [
              "(5,)"
            ]
          },
          "metadata": {},
          "execution_count": 65
        }
      ]
    },
    {
      "cell_type": "code",
      "metadata": {
        "colab": {
          "base_uri": "https://localhost:8080/",
          "height": 265
        },
        "id": "KYNtcoNsGA-n",
        "outputId": "de9e4643-d35c-4547-eb45-29c0f8a064b2"
      },
      "source": [
        "colors = np.array([ 'r' , 'b' ])\n",
        "A = X_del2[:,0]\n",
        "B = X_del2[:,1]\n",
        "plt.scatter(A, B, s=80 ,c=colors[cat])\n",
        "plt.savefig('DataPlot.png')\n",
        "plt.show()"
      ],
      "execution_count": null,
      "outputs": [
        {
          "output_type": "display_data",
          "data": {
            "image/png": "[encoded data removed]",
            "text/plain": [
              "<Figure size 432x288 with 1 Axes>"
            ]
          },
          "metadata": {
            "needs_background": "light"
          }
        }
      ]
    },
    {
      "cell_type": "markdown",
      "metadata": {
        "id": "ezy6H5JXScP4"
      },
      "source": [
        "## *Third Neuron*"
      ]
    },
    {
      "cell_type": "markdown",
      "metadata": {
        "id": "HpMCOiJQSxZ0"
      },
      "source": [
        "### Choosing a random pattern"
      ]
    },
    {
      "cell_type": "code",
      "metadata": {
        "colab": {
          "base_uri": "https://localhost:8080/"
        },
        "id": "Pzph3jZCSxZ4",
        "outputId": "9f66f0d9-746e-4b71-c96c-44305bcc3b39"
      },
      "source": [
        "### Choosing a random pattern\n",
        "n = X_del2.shape[0]\n",
        "r = np.random.randint(0,n)\n",
        "# r = 1\n",
        "r"
      ],
      "execution_count": null,
      "outputs": [
        {
          "output_type": "execute_result",
          "data": {
            "text/plain": [
              "2"
            ]
          },
          "metadata": {},
          "execution_count": 78
        }
      ]
    },
    {
      "cell_type": "code",
      "metadata": {
        "colab": {
          "base_uri": "https://localhost:8080/"
        },
        "id": "CMEKLq-I7dOW",
        "outputId": "49d8a055-03f4-40a1-fd6d-357949b4af14"
      },
      "source": [
        "X_del2[r]"
      ],
      "execution_count": null,
      "outputs": [
        {
          "output_type": "execute_result",
          "data": {
            "text/plain": [
              "array([3., 1.])"
            ]
          },
          "metadata": {},
          "execution_count": 79
        }
      ]
    },
    {
      "cell_type": "code",
      "metadata": {
        "colab": {
          "base_uri": "https://localhost:8080/"
        },
        "id": "NC7pJ6mjSxZ5",
        "outputId": "fdcd2f7d-3528-46dc-b192-5f8aa0fd5bd0"
      },
      "source": [
        "### Creating mask\n",
        "mask = (Y_del2 != Y_del2[r])\n",
        "mask"
      ],
      "execution_count": null,
      "outputs": [
        {
          "output_type": "execute_result",
          "data": {
            "text/plain": [
              "array([[ True],\n",
              "       [False],\n",
              "       [False],\n",
              "       [False],\n",
              "       [False],\n",
              "       [False]])"
            ]
          },
          "metadata": {},
          "execution_count": 80
        }
      ]
    },
    {
      "cell_type": "markdown",
      "metadata": {
        "id": "GG0P18dNSxZ5"
      },
      "source": [
        "### Finding nearest Border Pattern"
      ]
    },
    {
      "cell_type": "code",
      "metadata": {
        "colab": {
          "base_uri": "https://localhost:8080/"
        },
        "id": "o66v5yImSxZ6",
        "outputId": "eddff93c-4fe3-4b93-f34c-4b05cfe21ffc"
      },
      "source": [
        "### Distance matrix\n",
        "dist_del2 = np.zeros((n,n))\n",
        "for i in range(n):\n",
        "    temp = np.sum(np.square(X_del2 - X_del2[i,:]), axis=1)\n",
        "    dist_del2[i,:] = np.transpose(temp)\n",
        "\n",
        "dist_del2"
      ],
      "execution_count": null,
      "outputs": [
        {
          "output_type": "execute_result",
          "data": {
            "text/plain": [
              "array([[ 0.  ,  5.  ,  1.  ,  5.  , 15.25,  9.  ],\n",
              "       [ 5.  ,  0.  ,  4.  ,  2.  ,  4.25,  8.  ],\n",
              "       [ 1.  ,  4.  ,  0.  ,  2.  , 10.25,  4.  ],\n",
              "       [ 5.  ,  2.  ,  2.  ,  0.  ,  3.25,  2.  ],\n",
              "       [15.25,  4.25, 10.25,  3.25,  0.  ,  6.25],\n",
              "       [ 9.  ,  8.  ,  4.  ,  2.  ,  6.25,  0.  ]])"
            ]
          },
          "metadata": {},
          "execution_count": 81
        }
      ]
    },
    {
      "cell_type": "code",
      "metadata": {
        "colab": {
          "base_uri": "https://localhost:8080/"
        },
        "id": "GnUjnoUNSxZ6",
        "outputId": "3129cf7c-f76b-47cf-eff1-7de8bd377b52"
      },
      "source": [
        "### Finding different class patterns closest to chosen pattern\n",
        "row = dist_del2[r,:]*np.transpose(mask) [0]\n",
        "d = np.min(row[np.nonzero(row)])\n",
        "d"
      ],
      "execution_count": null,
      "outputs": [
        {
          "output_type": "execute_result",
          "data": {
            "text/plain": [
              "1.0"
            ]
          },
          "metadata": {},
          "execution_count": 82
        }
      ]
    },
    {
      "cell_type": "code",
      "metadata": {
        "colab": {
          "base_uri": "https://localhost:8080/"
        },
        "id": "LXqzEGzfSxZ6",
        "outputId": "a2f1e9fa-8c0c-401e-ca14-6bc2433c4c16"
      },
      "source": [
        "### Nearest border pattern\n",
        "s = np.where( row == d)\n",
        "p = s[0][0]\n",
        "p"
      ],
      "execution_count": null,
      "outputs": [
        {
          "output_type": "execute_result",
          "data": {
            "text/plain": [
              "0"
            ]
          },
          "metadata": {},
          "execution_count": 83
        }
      ]
    },
    {
      "cell_type": "code",
      "metadata": {
        "colab": {
          "base_uri": "https://localhost:8080/"
        },
        "id": "5Sk0d0FCSxZ7",
        "outputId": "23c4dfaf-dbc9-499b-a412-0e4e7fdc4eb3"
      },
      "source": [
        "X_del2[p]"
      ],
      "execution_count": null,
      "outputs": [
        {
          "output_type": "execute_result",
          "data": {
            "text/plain": [
              "array([3., 0.])"
            ]
          },
          "metadata": {},
          "execution_count": 84
        }
      ]
    },
    {
      "cell_type": "markdown",
      "metadata": {
        "id": "IwZoAZVkSxZ7"
      },
      "source": [
        "### Draw the circle"
      ]
    },
    {
      "cell_type": "code",
      "metadata": {
        "colab": {
          "base_uri": "https://localhost:8080/"
        },
        "id": "wTWPqroiSxZ8",
        "outputId": "52717891-31ec-4ffa-e7ba-c311e0c2dd12"
      },
      "source": [
        "pts_arr = draw_circle(r,p,dist_del2)\n",
        "pts_arr"
      ],
      "execution_count": null,
      "outputs": [
        {
          "output_type": "execute_result",
          "data": {
            "text/plain": [
              "array([0, 2])"
            ]
          },
          "metadata": {},
          "execution_count": 85
        }
      ]
    },
    {
      "cell_type": "code",
      "metadata": {
        "colab": {
          "base_uri": "https://localhost:8080/"
        },
        "id": "MhC5tHyPSxZ8",
        "outputId": "c5e66c23-1814-42df-a084-8a3619f6e4b0"
      },
      "source": [
        "### Reduced distance matrix\n",
        "temp = dist_del2[pts_arr,:]\n",
        "dist_circle = temp[:,pts_arr]\n",
        "dist_circle"
      ],
      "execution_count": null,
      "outputs": [
        {
          "output_type": "execute_result",
          "data": {
            "text/plain": [
              "array([[0., 1.],\n",
              "       [1., 0.]])"
            ]
          },
          "metadata": {},
          "execution_count": 86
        }
      ]
    },
    {
      "cell_type": "code",
      "metadata": {
        "colab": {
          "base_uri": "https://localhost:8080/"
        },
        "id": "hI6AMMXPSxZ8",
        "outputId": "23415ae5-9fb7-4ef1-cbb6-0d74a66a0066"
      },
      "source": [
        "### Reduced Y_matrix\n",
        "Y_circle = Y_del2[pts_arr]\n",
        "Y_circle"
      ],
      "execution_count": null,
      "outputs": [
        {
          "output_type": "execute_result",
          "data": {
            "text/plain": [
              "array([[0],\n",
              "       [1]])"
            ]
          },
          "metadata": {},
          "execution_count": 87
        }
      ]
    },
    {
      "cell_type": "code",
      "metadata": {
        "colab": {
          "base_uri": "https://localhost:8080/"
        },
        "id": "rl_U4PGdSxZ8",
        "outputId": "8194db5a-7b11-478e-ed5d-ace425f640b4"
      },
      "source": [
        "### Reduced X_matrix\n",
        "X_circle = X_del2[pts_arr]\n",
        "X_circle"
      ],
      "execution_count": null,
      "outputs": [
        {
          "output_type": "execute_result",
          "data": {
            "text/plain": [
              "array([[3., 0.],\n",
              "       [3., 1.]])"
            ]
          },
          "metadata": {},
          "execution_count": 88
        }
      ]
    },
    {
      "cell_type": "markdown",
      "metadata": {
        "id": "ucJKC68uSxZ9"
      },
      "source": [
        "### Find Border Pairs inside the circle"
      ]
    },
    {
      "cell_type": "code",
      "metadata": {
        "colab": {
          "base_uri": "https://localhost:8080/"
        },
        "id": "yGWtLDlXSxZ9",
        "outputId": "4bbba554-8422-462b-bd5a-87850b7ec1fa"
      },
      "source": [
        "### Searching Border Pairs inside the circle \n",
        "bord_pairs = border_pair(dist_circle, X_circle, Y_circle)"
      ],
      "execution_count": null,
      "outputs": [
        {
          "output_type": "stream",
          "name": "stdout",
          "text": [
            " 0 and 1 are border pairs\n",
            "[[[0, 1]], [array([3. , 0.5])]]\n"
          ]
        }
      ]
    },
    {
      "cell_type": "markdown",
      "metadata": {
        "id": "Z3EtYLnlSxZ-"
      },
      "source": [
        "### Draw Border Line in the circle"
      ]
    },
    {
      "cell_type": "code",
      "metadata": {
        "id": "dfe3WiQqSxZ-",
        "colab": {
          "base_uri": "https://localhost:8080/"
        },
        "outputId": "82a275db-857b-4694-9224-89a2c24c8fbb"
      },
      "source": [
        "### Forming triplet for drawing Border Line\n",
        "s, x0, x1, x2 = triple_pt(bord_pairs, X_del2)"
      ],
      "execution_count": null,
      "outputs": [
        {
          "output_type": "stream",
          "name": "stdout",
          "text": [
            "[ 0.    0.    0.25  3.25 12.5   6.25]\n",
            "(array([2]),)\n"
          ]
        }
      ]
    },
    {
      "cell_type": "code",
      "metadata": {
        "colab": {
          "base_uri": "https://localhost:8080/"
        },
        "id": "iM_l-jzM-NC6",
        "outputId": "e11b89a1-dfb3-4193-c77a-f4ffd7506d90"
      },
      "source": [
        "x0"
      ],
      "execution_count": null,
      "outputs": [
        {
          "output_type": "execute_result",
          "data": {
            "text/plain": [
              "array([3., 1.])"
            ]
          },
          "metadata": {},
          "execution_count": 92
        }
      ]
    },
    {
      "cell_type": "code",
      "metadata": {
        "colab": {
          "base_uri": "https://localhost:8080/"
        },
        "id": "fu0eHu5F800J",
        "outputId": "3d1afe4c-efa4-44c0-def8-38d383ee528c"
      },
      "source": [
        "x1 "
      ],
      "execution_count": null,
      "outputs": [
        {
          "output_type": "execute_result",
          "data": {
            "text/plain": [
              "array([3., 0.])"
            ]
          },
          "metadata": {},
          "execution_count": 93
        }
      ]
    },
    {
      "cell_type": "code",
      "metadata": {
        "colab": {
          "base_uri": "https://localhost:8080/"
        },
        "id": "f2w2gNB--SBu",
        "outputId": "ee0b6a46-df3c-41fb-d5e4-fc56a2447a0e"
      },
      "source": [
        "x2"
      ],
      "execution_count": null,
      "outputs": [
        {
          "output_type": "execute_result",
          "data": {
            "text/plain": [
              "array([1., 1.])"
            ]
          },
          "metadata": {},
          "execution_count": 94
        }
      ]
    },
    {
      "cell_type": "code",
      "metadata": {
        "colab": {
          "base_uri": "https://localhost:8080/"
        },
        "id": "ftoPzVEsSxZ-",
        "outputId": "d1b4ba2c-ec11-4f35-8983-5b3ddb1ec891"
      },
      "source": [
        "### Draw the border line that maximises the margin \n",
        "weights = margin_weights2D(s, x0, x1, x2,Y_del2, bord_pairs)\n",
        "weights"
      ],
      "execution_count": null,
      "outputs": [
        {
          "output_type": "execute_result",
          "data": {
            "text/plain": [
              "array([-5.55111512e-17,  1.00000000e+00,  0.00000000e+00])"
            ]
          },
          "metadata": {},
          "execution_count": 96
        }
      ]
    },
    {
      "cell_type": "markdown",
      "metadata": {
        "id": "6nAsXop5SxZ-"
      },
      "source": [
        "### Visualise the straight line"
      ]
    },
    {
      "cell_type": "code",
      "metadata": {
        "colab": {
          "base_uri": "https://localhost:8080/"
        },
        "id": "2Ei4pOJNSxZ-",
        "outputId": "dd4f30de-9976-457d-b2ac-7d09515aeb85"
      },
      "source": [
        "a,b,c = weights\n",
        "b"
      ],
      "execution_count": null,
      "outputs": [
        {
          "output_type": "execute_result",
          "data": {
            "text/plain": [
              "0.9999999999999999"
            ]
          },
          "metadata": {},
          "execution_count": 97
        }
      ]
    },
    {
      "cell_type": "code",
      "metadata": {
        "colab": {
          "base_uri": "https://localhost:8080/"
        },
        "id": "2RmNGO6USxZ_",
        "outputId": "137e9fb0-bc2c-426e-b803-32ce2b2203be"
      },
      "source": [
        "n = Y_del2.shape[0]\n",
        "cat = Y_del2.reshape((n,))\n",
        "cat.shape "
      ],
      "execution_count": null,
      "outputs": [
        {
          "output_type": "execute_result",
          "data": {
            "text/plain": [
              "(6,)"
            ]
          },
          "metadata": {},
          "execution_count": 98
        }
      ]
    },
    {
      "cell_type": "code",
      "metadata": {
        "colab": {
          "base_uri": "https://localhost:8080/",
          "height": 265
        },
        "id": "-OmmilbXSxZ_",
        "outputId": "d78abe68-ac2b-4347-a28b-1b2480fa10dd"
      },
      "source": [
        "colors = np.array([ 'r' , 'b' ])\n",
        "axes = plt.gca()\n",
        "A = X_del2[:,0]\n",
        "B = X_del2[:,1]\n",
        "plt.scatter(A, B, s=80 ,c=colors[cat])\n",
        "\n",
        "if round(b) != 0:\n",
        "  x_vals = np.array(axes.get_xlim())\n",
        "  intercept = (-c+0.5)/b\n",
        "  slope = - a/b\n",
        "  y_vals = intercept + slope * x_vals\n",
        "  plt.plot(x_vals, y_vals, '--')\n",
        "else :\n",
        "  plt.axvline(x = (0.5 - c)/a, linestyle='--')\n",
        "\n",
        "\n",
        "plt.savefig('DataPlot.png')\n",
        "plt.show()"
      ],
      "execution_count": null,
      "outputs": [
        {
          "output_type": "display_data",
          "data": {
            "image/png": "[encoded data removed]",
            "text/plain": [
              "<Figure size 432x288 with 1 Axes>"
            ]
          },
          "metadata": {
            "needs_background": "light"
          }
        }
      ]
    },
    {
      "cell_type": "markdown",
      "metadata": {
        "id": "XYgqoRflSxZ_"
      },
      "source": [
        "### Exclude Homogeneous areas"
      ]
    },
    {
      "cell_type": "code",
      "metadata": {
        "colab": {
          "base_uri": "https://localhost:8080/"
        },
        "id": "DBQHhcWvSxZ_",
        "outputId": "bec9558b-350d-4ed0-a3ce-06e65bcfcb73"
      },
      "source": [
        "m = X_del2.shape[0]\n",
        "id = np.ones(m).reshape((m,1))\n",
        "X_ex = np.hstack((X_del2, id))\n",
        "temp = np.matmul(X_ex, np.transpose(weights))\n",
        "## Positive section\n",
        "p_ind = np.where(temp >= 0.5)\n",
        "\n",
        "## Negative section\n",
        "n_ind = np.where(temp < 0.5)\n",
        "\n",
        "## Checking for homogeneous areas on any side\n",
        "if np.all(Y_del2[p_ind] == 1):\n",
        "  X_del3 = X_del2[n_ind]\n",
        "  Y_del3 = Y_del2[n_ind]\n",
        "\n",
        "if np.all(Y_del2[n_ind] == 0):\n",
        "  X_del3 = X_del2[p_ind]\n",
        "  Y_del3 = Y_del2[p_ind]\n",
        "\n",
        "X_del3 ## after excluding homogeneous area"
      ],
      "execution_count": null,
      "outputs": [
        {
          "output_type": "execute_result",
          "data": {
            "text/plain": [
              "array([[-1,  1],\n",
              "       [-2,  1],\n",
              "       [-1,  2],\n",
              "       [-2,  2]])"
            ]
          },
          "metadata": {
            "tags": []
          },
          "execution_count": 450
        }
      ]
    },
    {
      "cell_type": "code",
      "metadata": {
        "colab": {
          "base_uri": "https://localhost:8080/"
        },
        "id": "Q0-xmz13SxZ_",
        "outputId": "dd085450-71a5-40eb-8c4f-d86d121f6db0"
      },
      "source": [
        "## Additional cross-check till next section\n",
        "np.matmul(X_ex[p_ind], np.transpose(weights))"
      ],
      "execution_count": null,
      "outputs": [
        {
          "output_type": "execute_result",
          "data": {
            "text/plain": [
              "array([1. , 1.5, 1. , 1.5])"
            ]
          },
          "metadata": {
            "tags": []
          },
          "execution_count": 451
        }
      ]
    },
    {
      "cell_type": "code",
      "metadata": {
        "colab": {
          "base_uri": "https://localhost:8080/"
        },
        "id": "RwudmFHFSxaA",
        "outputId": "ae448cfb-692e-47f3-c15a-006e76524d2f"
      },
      "source": [
        "Y_del[p_ind]"
      ],
      "execution_count": null,
      "outputs": [
        {
          "output_type": "execute_result",
          "data": {
            "text/plain": [
              "array([[1],\n",
              "       [1],\n",
              "       [1],\n",
              "       [1]])"
            ]
          },
          "metadata": {
            "tags": []
          },
          "execution_count": 452
        }
      ]
    },
    {
      "cell_type": "code",
      "metadata": {
        "colab": {
          "base_uri": "https://localhost:8080/"
        },
        "id": "8Hm52UOuSxaA",
        "outputId": "45b57c32-e5a0-4c3c-94a8-bbe84248d5cc"
      },
      "source": [
        "np.matmul(X_ex[n_ind], np.transpose(weights))"
      ],
      "execution_count": null,
      "outputs": [
        {
          "output_type": "execute_result",
          "data": {
            "text/plain": [
              "array([ 0. , -0.5, -1. , -1.5,  0. , -0.5, -1. , -1.5])"
            ]
          },
          "metadata": {
            "tags": []
          },
          "execution_count": 453
        }
      ]
    },
    {
      "cell_type": "code",
      "metadata": {
        "colab": {
          "base_uri": "https://localhost:8080/"
        },
        "id": "WO09ObdmSxaA",
        "outputId": "b5c405cb-8774-45b6-be3d-69358abf4dd5"
      },
      "source": [
        "Y_del[n_ind]"
      ],
      "execution_count": null,
      "outputs": [
        {
          "output_type": "execute_result",
          "data": {
            "text/plain": [
              "array([[1],\n",
              "       [1],\n",
              "       [1],\n",
              "       [1],\n",
              "       [1],\n",
              "       [1],\n",
              "       [0],\n",
              "       [0]])"
            ]
          },
          "metadata": {
            "tags": []
          },
          "execution_count": 454
        }
      ]
    },
    {
      "cell_type": "markdown",
      "metadata": {
        "id": "4j_P-_GUSxaA"
      },
      "source": [
        "### Visualise the output for third neuron\n",
        "\n",
        "\n"
      ]
    },
    {
      "cell_type": "code",
      "metadata": {
        "colab": {
          "base_uri": "https://localhost:8080/"
        },
        "id": "a5AafEiQSxaA",
        "outputId": "d97fdf1f-4e4d-4ed1-91f2-d297e78d3da7"
      },
      "source": [
        "n = Y_del3.shape[0]\n",
        "cat = Y_del3.reshape((n,))\n",
        "cat.shape "
      ],
      "execution_count": null,
      "outputs": [
        {
          "output_type": "execute_result",
          "data": {
            "text/plain": [
              "(4,)"
            ]
          },
          "metadata": {
            "tags": []
          },
          "execution_count": 455
        }
      ]
    },
    {
      "cell_type": "code",
      "metadata": {
        "colab": {
          "base_uri": "https://localhost:8080/",
          "height": 265
        },
        "id": "q4Xddr9PSxaB",
        "outputId": "a3afa99e-9eef-432b-d96a-b0365537735d"
      },
      "source": [
        "colors = np.array([ 'r' , 'b' ])\n",
        "A = X_del3[:,0]\n",
        "B = X_del3[:,1]\n",
        "plt.scatter(A, B, s=80 ,c=colors[cat])\n",
        "plt.savefig('DataPlot.png')\n",
        "plt.show()"
      ],
      "execution_count": null,
      "outputs": [
        {
          "output_type": "display_data",
          "data": {
            "image/png": "[encoded data removed]",
            "text/plain": [
              "<Figure size 432x288 with 1 Axes>"
            ]
          },
          "metadata": {
            "tags": [],
            "needs_background": "light"
          }
        }
      ]
    },
    {
      "cell_type": "code",
      "metadata": {
        "id": "Vy7DEvKS07xi"
      },
      "source": [
        ""
      ],
      "execution_count": null,
      "outputs": []
    }
  ]
}